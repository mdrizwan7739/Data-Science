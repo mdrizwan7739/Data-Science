{
 "cells": [
  {
   "cell_type": "markdown",
   "id": "bb85ce57",
   "metadata": {},
   "source": [
    "1. Write a python program to check if the given number is Disarium ?"
   ]
  },
  {
   "cell_type": "code",
   "execution_count": 22,
   "id": "da7ab567",
   "metadata": {},
   "outputs": [
    {
     "name": "stdout",
     "output_type": "stream",
     "text": [
      "Enter a number    175\n",
      "Disarium\n"
     ]
    }
   ],
   "source": [
    "#175=1+7^2+5^3\n",
    "x=int(input(\"Enter a number    \"))\n",
    "j=1\n",
    "z=0\n",
    "for i in str(x):\n",
    "    z=z+int(i)**j\n",
    "    j=j+1\n",
    "if (x==z):        \n",
    "    print(\"Disarium\")\n",
    "else:\n",
    "    print(\"no\")\n",
    "    "
   ]
  },
  {
   "cell_type": "markdown",
   "id": "d38454c0",
   "metadata": {},
   "source": [
    "2. Write a python program to print all disarium number between 1 to 100 ?"
   ]
  },
  {
   "cell_type": "code",
   "execution_count": 36,
   "id": "560f204f",
   "metadata": {},
   "outputs": [
    {
     "name": "stdout",
     "output_type": "stream",
     "text": [
      "Disarium 1\n",
      "Disarium 2\n",
      "Disarium 3\n",
      "Disarium 4\n",
      "Disarium 5\n",
      "Disarium 6\n",
      "Disarium 7\n",
      "Disarium 8\n",
      "Disarium 9\n",
      "Disarium 89\n"
     ]
    }
   ],
   "source": [
    "for i in range(1,100):\n",
    "    k=1\n",
    "    z=0\n",
    "    for j in str(i):\n",
    "        z=z+int(j)**k\n",
    "        k=k+1\n",
    "   \n",
    "    if (i==z):\n",
    "        print(\"Disarium\",i)\n",
    "   "
   ]
  },
  {
   "cell_type": "markdown",
   "id": "10d29cc9",
   "metadata": {},
   "source": [
    "3. Write a python program to check if the given number is happy number ?"
   ]
  },
  {
   "cell_type": "code",
   "execution_count": 8,
   "id": "6a39fd8d",
   "metadata": {},
   "outputs": [
    {
     "name": "stdout",
     "output_type": "stream",
     "text": [
      "happy number\n"
     ]
    }
   ],
   "source": [
    "def ishappynumber(num):\n",
    "    rem=sum=0\n",
    "    while(num>0):\n",
    "        rem=num%10\n",
    "        sum=sum+rem*rem\n",
    "        num=num//10\n",
    "    return sum    \n",
    "num=19\n",
    "result=num\n",
    "while(result!=1 and result!=4):\n",
    "    result= ishappynumber(result)\n",
    "if result==1:\n",
    "    print(\"happy number\")\n",
    "if result==4 :\n",
    "    print(\"not happy number\")\n",
    "        \n",
    "    \n",
    "    \n",
    "        "
   ]
  },
  {
   "cell_type": "markdown",
   "id": "c5f42e2d",
   "metadata": {},
   "source": [
    "4. Write a python program to print all happy numbers between 1 to 100 ?"
   ]
  },
  {
   "cell_type": "code",
   "execution_count": 13,
   "id": "7abbf642",
   "metadata": {},
   "outputs": [
    {
     "name": "stdout",
     "output_type": "stream",
     "text": [
      "1 happy number\n",
      "7 happy number\n",
      "10 happy number\n",
      "13 happy number\n",
      "19 happy number\n",
      "23 happy number\n",
      "28 happy number\n",
      "31 happy number\n",
      "32 happy number\n",
      "44 happy number\n",
      "49 happy number\n",
      "68 happy number\n",
      "70 happy number\n",
      "79 happy number\n",
      "82 happy number\n",
      "86 happy number\n",
      "91 happy number\n",
      "94 happy number\n",
      "97 happy number\n",
      "100 happy number\n"
     ]
    }
   ],
   "source": [
    "def ishappynumber(num):\n",
    "        rem=sum=0\n",
    "        while(num>0):\n",
    "            rem=num%10\n",
    "            sum=sum+rem*rem\n",
    "            num=num//10\n",
    "        return sum    \n",
    "for i in range(1,101): \n",
    "    result=i\n",
    "    while(result!=1 and result!=4):\n",
    "        result= ishappynumber(result)\n",
    "    if result==1:\n",
    "        print(i,\"happy number\")\n",
    "  \n",
    "        \n",
    "    \n",
    "    "
   ]
  },
  {
   "cell_type": "markdown",
   "id": "bebff668",
   "metadata": {},
   "source": [
    "5. Write a python program to determine whether a given number is a Harshad number ?"
   ]
  },
  {
   "cell_type": "code",
   "execution_count": 59,
   "id": "e77278c8",
   "metadata": {},
   "outputs": [
    {
     "name": "stdout",
     "output_type": "stream",
     "text": [
      "Enter a number14\n",
      "not harshad number \n"
     ]
    }
   ],
   "source": [
    "#1,2,.....,9.10,12,18,20\n",
    "x=int(input(\"Enter a number\"))\n",
    "y=0\n",
    "for i in str(x):\n",
    "    y=y+int(i)\n",
    "if(x%y==0):\n",
    "    print(\"harshad number \")\n",
    "else:\n",
    "    print (\"not harshad number \")"
   ]
  },
  {
   "cell_type": "markdown",
   "id": "89a83d12",
   "metadata": {},
   "source": [
    "6. Write a python program to print all pronic numbers between 1 and 100 ?"
   ]
  },
  {
   "cell_type": "code",
   "execution_count": 67,
   "id": "a7a2b508",
   "metadata": {},
   "outputs": [
    {
     "name": "stdout",
     "output_type": "stream",
     "text": [
      "pronic number 2\n",
      "pronic number 6\n",
      "pronic number 12\n",
      "pronic number 20\n",
      "pronic number 30\n",
      "pronic number 42\n",
      "pronic number 56\n",
      "pronic number 72\n",
      "pronic number 90\n"
     ]
    }
   ],
   "source": [
    "#6=2*3\n",
    "for i in range(1,100):\n",
    "    j=i*(i+1)\n",
    "    if(j<100):\n",
    "        print(\"pronic number\",j)"
   ]
  },
  {
   "cell_type": "code",
   "execution_count": null,
   "id": "dbba5695",
   "metadata": {},
   "outputs": [],
   "source": []
  }
 ],
 "metadata": {
  "kernelspec": {
   "display_name": "Python 3",
   "language": "python",
   "name": "python3"
  },
  "language_info": {
   "codemirror_mode": {
    "name": "ipython",
    "version": 3
   },
   "file_extension": ".py",
   "mimetype": "text/x-python",
   "name": "python",
   "nbconvert_exporter": "python",
   "pygments_lexer": "ipython3",
   "version": "3.8.8"
  }
 },
 "nbformat": 4,
 "nbformat_minor": 5
}
