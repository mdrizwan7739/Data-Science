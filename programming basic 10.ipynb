{
 "cells": [
  {
   "cell_type": "markdown",
   "id": "764fcf64",
   "metadata": {},
   "source": [
    "1. Write a python program to find sum of elements in a list ?"
   ]
  },
  {
   "cell_type": "code",
   "execution_count": 3,
   "id": "0e53a14d",
   "metadata": {},
   "outputs": [
    {
     "name": "stdout",
     "output_type": "stream",
     "text": [
      "135\n"
     ]
    }
   ],
   "source": [
    "l=[22,23,24,11,55]\n",
    "x=0\n",
    "for i in l:\n",
    "    x=x+i\n",
    "print(x)    "
   ]
  },
  {
   "cell_type": "markdown",
   "id": "1456d94c",
   "metadata": {},
   "source": [
    "2. Write a python program to multiply all numbers in a list ?"
   ]
  },
  {
   "cell_type": "code",
   "execution_count": 4,
   "id": "f72c9823",
   "metadata": {},
   "outputs": [
    {
     "name": "stdout",
     "output_type": "stream",
     "text": [
      "240\n"
     ]
    }
   ],
   "source": [
    "l1=[2,5,8,3,1]\n",
    "x=1\n",
    "for i in l1:\n",
    "    x=x*i\n",
    "print(x)\n"
   ]
  },
  {
   "cell_type": "markdown",
   "id": "4a5903dd",
   "metadata": {},
   "source": [
    "3. Write a python program to find smallest number in a list ?\n",
    "    "
   ]
  },
  {
   "cell_type": "code",
   "execution_count": 7,
   "id": "67a06aa8",
   "metadata": {},
   "outputs": [
    {
     "name": "stdout",
     "output_type": "stream",
     "text": [
      "3\n"
     ]
    }
   ],
   "source": [
    "l1=[55,3,66,47,56]\n",
    "x=min(l1)\n",
    "print(x)"
   ]
  },
  {
   "cell_type": "markdown",
   "id": "fdd05960",
   "metadata": {},
   "source": [
    "4. Write a python program to find largest number in a list ?"
   ]
  },
  {
   "cell_type": "code",
   "execution_count": 8,
   "id": "72da808c",
   "metadata": {},
   "outputs": [
    {
     "name": "stdout",
     "output_type": "stream",
     "text": [
      "98\n"
     ]
    }
   ],
   "source": [
    "l1=[2,44,1,55,77,98,25,43]\n",
    "x=max(l1)\n",
    "print(x)"
   ]
  },
  {
   "cell_type": "markdown",
   "id": "eb204159",
   "metadata": {},
   "source": [
    "5. Write a python program to find second largest number in a list ?"
   ]
  },
  {
   "cell_type": "code",
   "execution_count": 15,
   "id": "9281fefe",
   "metadata": {},
   "outputs": [
    {
     "name": "stdout",
     "output_type": "stream",
     "text": [
      "76\n"
     ]
    }
   ],
   "source": [
    "l1=[2,44,31,75,83,76,23,55,76,]\n",
    "l1.sort()\n",
    "print(l1[-2])"
   ]
  },
  {
   "cell_type": "markdown",
   "id": "818ae9fb",
   "metadata": {},
   "source": [
    "6. Write a python program to find N largest element from a list ?"
   ]
  },
  {
   "cell_type": "code",
   "execution_count": 9,
   "id": "eb484879",
   "metadata": {},
   "outputs": [
    {
     "name": "stdout",
     "output_type": "stream",
     "text": [
      "enter a number5\n",
      "[68, 65, 55, 54, 53]\n"
     ]
    }
   ],
   "source": [
    "p=[34,54,21,25,65,45,55,68,53,24]\n",
    "x=int(input(\"enter a number\"))\n",
    "p.sort()\n",
    "l1=p[-1:-x-1:-1]\n",
    "print(l1)"
   ]
  },
  {
   "cell_type": "markdown",
   "id": "e3fd17df",
   "metadata": {},
   "source": [
    "7. Write a python program to print even numbers in a list ?"
   ]
  },
  {
   "cell_type": "code",
   "execution_count": 16,
   "id": "eae47bb9",
   "metadata": {},
   "outputs": [
    {
     "name": "stdout",
     "output_type": "stream",
     "text": [
      "4\n",
      "2\n",
      "6\n",
      "66\n",
      "78\n",
      "92\n",
      "32\n"
     ]
    }
   ],
   "source": [
    "l=[1,4,5,2,6,7,33,66,78,92,32,45]\n",
    "for i in l:\n",
    "    if i%2==0 :\n",
    "        print(i)"
   ]
  },
  {
   "cell_type": "markdown",
   "id": "c0cc17bc",
   "metadata": {},
   "source": [
    "8. Write a python program to print odd numbers in a list ?"
   ]
  },
  {
   "cell_type": "code",
   "execution_count": 17,
   "id": "9d69381e",
   "metadata": {},
   "outputs": [
    {
     "name": "stdout",
     "output_type": "stream",
     "text": [
      "1\n",
      "3\n",
      "5\n",
      "9\n",
      "65\n",
      "3\n",
      "411\n",
      "23\n"
     ]
    }
   ],
   "source": [
    "l=[1,3,2,5,9,66,65,3,411,23,22,28,]\n",
    "for i in l:\n",
    "    if i%2!=0 :\n",
    "        print(i)"
   ]
  },
  {
   "cell_type": "markdown",
   "id": "31ab96dd",
   "metadata": {},
   "source": [
    "9. Write a python program to remove empty list from a list ?"
   ]
  },
  {
   "cell_type": "code",
   "execution_count": 31,
   "id": "5106aaf4",
   "metadata": {},
   "outputs": [
    {
     "name": "stdout",
     "output_type": "stream",
     "text": [
      "1\n",
      "2\n",
      "3\n",
      "str1\n",
      "str2\n",
      "str3\n",
      "['str4', 12, 23, 34]\n"
     ]
    }
   ],
   "source": [
    "l=[1,2,3,[],[],\"str1\",\"str2\",\"str3\",[\"str4\",12,23,34]]\n",
    "for i in l[:]:\n",
    "    l1=filter(None,l)\n",
    "for i in l1:     \n",
    "    print(i)\n",
    "        \n",
    "        "
   ]
  },
  {
   "cell_type": "markdown",
   "id": "2cd3674d",
   "metadata": {},
   "source": [
    "10. Write a python program to cloning or copying a list ?"
   ]
  },
  {
   "cell_type": "code",
   "execution_count": 33,
   "id": "cf85a73d",
   "metadata": {},
   "outputs": [
    {
     "name": "stdout",
     "output_type": "stream",
     "text": [
      "['zzz', 32, 'nnn', 'jjj', 567, 66, 'qwe']\n"
     ]
    }
   ],
   "source": [
    "l=[\"zzz\",32,\"nnn\",\"jjj\",567,66,\"qwe\"]\n",
    "l1=l\n",
    "print(l1)"
   ]
  },
  {
   "cell_type": "markdown",
   "id": "20531045",
   "metadata": {},
   "source": [
    "11. Write a python program to count occurences of an element in a list ?"
   ]
  },
  {
   "cell_type": "code",
   "execution_count": 34,
   "id": "15c7067e",
   "metadata": {},
   "outputs": [
    {
     "data": {
      "text/plain": [
       "5"
      ]
     },
     "execution_count": 34,
     "metadata": {},
     "output_type": "execute_result"
    }
   ],
   "source": [
    "l=[2,5,2,76,2,1,3,23,12,21,2,48,62,2]\n",
    "l.count(2)"
   ]
  },
  {
   "cell_type": "code",
   "execution_count": null,
   "id": "0f484638",
   "metadata": {},
   "outputs": [],
   "source": []
  }
 ],
 "metadata": {
  "kernelspec": {
   "display_name": "Python 3",
   "language": "python",
   "name": "python3"
  },
  "language_info": {
   "codemirror_mode": {
    "name": "ipython",
    "version": 3
   },
   "file_extension": ".py",
   "mimetype": "text/x-python",
   "name": "python",
   "nbconvert_exporter": "python",
   "pygments_lexer": "ipython3",
   "version": "3.8.8"
  }
 },
 "nbformat": 4,
 "nbformat_minor": 5
}
