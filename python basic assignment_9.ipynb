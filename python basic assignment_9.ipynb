{
 "cells": [
  {
   "cell_type": "markdown",
   "id": "a9fea61f",
   "metadata": {},
   "source": [
    "1. To what does a relative path refer?"
   ]
  },
  {
   "cell_type": "code",
   "execution_count": null,
   "id": "7ac6d9f7",
   "metadata": {},
   "outputs": [],
   "source": [
    "relative path shows current working directory path\n"
   ]
  },
  {
   "cell_type": "code",
   "execution_count": null,
   "id": "6a4ca7d9",
   "metadata": {},
   "outputs": [],
   "source": [
    "2. What does an absolute path start with your operating system?"
   ]
  },
  {
   "cell_type": "code",
   "execution_count": null,
   "id": "7e02c0b5",
   "metadata": {},
   "outputs": [],
   "source": [
    "\n",
    "absolute path = pwd + relative path\n",
    "absolute path always starts with rootdi directory"
   ]
  },
  {
   "cell_type": "code",
   "execution_count": 2,
   "id": "9fc0190d",
   "metadata": {},
   "outputs": [
    {
     "data": {
      "text/plain": [
       "'E:\\\\data science\\\\ineuron full stack DS\\\\Assignments\\\\PythonBasicAssignments\\\\Assignment_p.ipynb'"
      ]
     },
     "execution_count": 2,
     "metadata": {},
     "output_type": "execute_result"
    }
   ],
   "source": [
    "os.path.abspath(path)"
   ]
  },
  {
   "cell_type": "code",
   "execution_count": null,
   "id": "874f05b1",
   "metadata": {},
   "outputs": [],
   "source": [
    "3. What do the functions os.getcwd() and os.chdir() do?"
   ]
  },
  {
   "cell_type": "code",
   "execution_count": null,
   "id": "2ea6a213",
   "metadata": {},
   "outputs": [],
   "source": [
    "os.chdir() performs change directory\n",
    "os.getcwd() gives current working directory"
   ]
  },
  {
   "cell_type": "code",
   "execution_count": null,
   "id": "0bfac5f8",
   "metadata": {},
   "outputs": [],
   "source": [
    "4. What are the . and .. folders?"
   ]
  },
  {
   "cell_type": "code",
   "execution_count": null,
   "id": "93a3986b",
   "metadata": {},
   "outputs": [],
   "source": [
    "these are not real folder but are special names for path\n",
    "    (.) = this directory\n",
    "    (..)= parent directory"
   ]
  },
  {
   "cell_type": "code",
   "execution_count": null,
   "id": "b8d0b75b",
   "metadata": {},
   "outputs": [],
   "source": [
    "5. In C:\\bacon\\eggs\\spam.txt, which part is the dir name, and which part is the base name?"
   ]
  },
  {
   "cell_type": "code",
   "execution_count": null,
   "id": "05af8c1b",
   "metadata": {},
   "outputs": [],
   "source": [
    "C:\\bacon\\eggs --> dir name\n",
    "\n",
    "spam.txt --> base name"
   ]
  },
  {
   "cell_type": "code",
   "execution_count": null,
   "id": "7c9eabd7",
   "metadata": {},
   "outputs": [],
   "source": [
    "6. What are the three “mode” arguments that can be passed to the open() function?"
   ]
  },
  {
   "cell_type": "code",
   "execution_count": null,
   "id": "9f114ca3",
   "metadata": {},
   "outputs": [],
   "source": [
    "Three mode arguments are:\n",
    "    1. 'r' --> open for reading in text mode.\n",
    "    2. 'w' --> open for writing.\n",
    "    3. 'a' --> open for appending"
   ]
  },
  {
   "cell_type": "code",
   "execution_count": null,
   "id": "305d2a85",
   "metadata": {},
   "outputs": [],
   "source": [
    "7. What happens if an existing file is opened in write mode?"
   ]
  },
  {
   "cell_type": "code",
   "execution_count": null,
   "id": "26af28b7",
   "metadata": {},
   "outputs": [],
   "source": [
    "when an existing file is opened in write mode previous content is erased and file is treated as \n",
    "new empty file."
   ]
  },
  {
   "cell_type": "code",
   "execution_count": null,
   "id": "0ac96e9f",
   "metadata": {},
   "outputs": [],
   "source": [
    "8. How do you tell the difference between read() and readlines()?"
   ]
  },
  {
   "cell_type": "code",
   "execution_count": null,
   "id": "b338a74e",
   "metadata": {},
   "outputs": [],
   "source": [
    "read()      --> it iterates over each character.\n",
    "readlines() --> read only single line of the file."
   ]
  },
  {
   "cell_type": "code",
   "execution_count": null,
   "id": "ebf0975a",
   "metadata": {},
   "outputs": [],
   "source": [
    "9. What data structure does a shelf value resemble?"
   ]
  },
  {
   "cell_type": "code",
   "execution_count": null,
   "id": "cfd85f89",
   "metadata": {},
   "outputs": [],
   "source": [
    "As it contains key and values it represents dictionary."
   ]
  }
 ],
 "metadata": {
  "kernelspec": {
   "display_name": "Python 3",
   "language": "python",
   "name": "python3"
  },
  "language_info": {
   "codemirror_mode": {
    "name": "ipython",
    "version": 3
   },
   "file_extension": ".py",
   "mimetype": "text/x-python",
   "name": "python",
   "nbconvert_exporter": "python",
   "pygments_lexer": "ipython3",
   "version": "3.8.8"
  }
 },
 "nbformat": 4,
 "nbformat_minor": 5
}
