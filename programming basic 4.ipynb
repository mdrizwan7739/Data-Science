{
 "cells": [
  {
   "cell_type": "markdown",
   "id": "e8765a1d",
   "metadata": {},
   "source": [
    "1. Write a python program to find the factorial of a number ?"
   ]
  },
  {
   "cell_type": "code",
   "execution_count": 10,
   "id": "f5446f9e",
   "metadata": {},
   "outputs": [
    {
     "name": "stdout",
     "output_type": "stream",
     "text": [
      "enter a number   5\n",
      "factorial =   120\n"
     ]
    }
   ],
   "source": [
    "x=int(input(\"enter a number   \"))\n",
    "i=1\n",
    "while (x>0):\n",
    "    i=i*x\n",
    "    x=x-1    \n",
    "print(\"factorial =  \" ,i)   "
   ]
  },
  {
   "cell_type": "markdown",
   "id": "87b1df52",
   "metadata": {},
   "source": [
    "2. Write a python program to display the multiplication  table ?"
   ]
  },
  {
   "cell_type": "code",
   "execution_count": 40,
   "id": "600742fa",
   "metadata": {},
   "outputs": [
    {
     "name": "stdout",
     "output_type": "stream",
     "text": [
      "Enter a number  4\n",
      "multiplication table  = 4\n",
      "multiplication table  = 8\n",
      "multiplication table  = 12\n",
      "multiplication table  = 16\n",
      "multiplication table  = 20\n",
      "multiplication table  = 24\n",
      "multiplication table  = 28\n",
      "multiplication table  = 32\n",
      "multiplication table  = 36\n",
      "multiplication table  = 40\n"
     ]
    }
   ],
   "source": [
    "y=int(input(\"Enter a number  \"))\n",
    "for i in range(1,11) :\n",
    "    x=y*i\n",
    "    print(\"multiplication table  =\",x)\n",
    "    "
   ]
  },
  {
   "cell_type": "markdown",
   "id": "bc012cfd",
   "metadata": {},
   "source": [
    "3.Write a python program to print the fibonacci sequence ? "
   ]
  },
  {
   "cell_type": "code",
   "execution_count": 37,
   "id": "71b028f7",
   "metadata": {},
   "outputs": [
    {
     "name": "stdout",
     "output_type": "stream",
     "text": [
      "fibonacci sequence 0\n",
      "fibonacci sequence 1\n",
      "fibonacci sequence 1\n",
      "fibonacci sequence 2\n",
      "fibonacci sequence 3\n",
      "fibonacci sequence 5\n",
      "fibonacci sequence 8\n",
      "fibonacci sequence 13\n",
      "fibonacci sequence 21\n",
      "fibonacci sequence 34\n"
     ]
    }
   ],
   "source": [
    "\n",
    "x=0\n",
    "y1=1\n",
    "for i in range (10):\n",
    "    if i==1 or i==0  :\n",
    "        print(\"fibonacci sequence\",i)\n",
    "    else :     \n",
    "            y=x+y1\n",
    "            x=y1\n",
    "            y1=y\n",
    "            print(\"fibonacci sequence\",y)\n",
    "        \n",
    "    "
   ]
  },
  {
   "cell_type": "markdown",
   "id": "dc38c653",
   "metadata": {},
   "source": [
    "4. Write a python program to check Armstrong number ?"
   ]
  },
  {
   "cell_type": "code",
   "execution_count": 4,
   "id": "d9d2db68",
   "metadata": {},
   "outputs": [
    {
     "name": "stdout",
     "output_type": "stream",
     "text": [
      "Enter a number   3333\n",
      "Not Armstrong number\n"
     ]
    }
   ],
   "source": [
    "#153=1^3+5^3+3^3\n",
    "x= int(input(\"Enter a number   \"))\n",
    "y=0\n",
    "for i in str(x):\n",
    "    a=len(str(x))\n",
    "    z=int(i)**a\n",
    "    y=y+z\n",
    "if x==y:\n",
    "    print (\"Armstrong number\")\n",
    "else:\n",
    "    print(\"Not Armstrong number\")\n",
    "        "
   ]
  },
  {
   "cell_type": "markdown",
   "id": "ce0d7db6",
   "metadata": {},
   "source": [
    "5. Write a python program to find armstrong number in an interval ?"
   ]
  },
  {
   "cell_type": "code",
   "execution_count": 8,
   "id": "2a5dd06d",
   "metadata": {},
   "outputs": [
    {
     "name": "stdout",
     "output_type": "stream",
     "text": [
      "153\n",
      "370\n",
      "371\n",
      "407\n"
     ]
    }
   ],
   "source": [
    "#a=int(input(\"enter the first interval\"))\n",
    "#b=int(input(\"enter the second interval\"))\n",
    "y=0\n",
    "\n",
    "for i in range (100,500):\n",
    "    temp=i\n",
    "    sum=0\n",
    "    while(temp>0):\n",
    "        digit=temp%10\n",
    "        sum+=digit**3\n",
    "        temp//=10\n",
    "    if(i==sum) :\n",
    "        print(i)\n",
    "  "
   ]
  },
  {
   "cell_type": "markdown",
   "id": "1c06d5a7",
   "metadata": {},
   "source": [
    "6. Write a python program to find sum of natural numbers ?\n"
   ]
  },
  {
   "cell_type": "code",
   "execution_count": 12,
   "id": "9cbfad72",
   "metadata": {},
   "outputs": [
    {
     "name": "stdout",
     "output_type": "stream",
     "text": [
      "Enter a number   5\n",
      "sum of 5 natural numbers  =, 15.0\n"
     ]
    }
   ],
   "source": [
    "n=int(input(\"Enter a number   \"))\n",
    "x=1/2*(n*(n+1))\n",
    "print (\"sum of {} natural numbers  =, {}\".format(n,x))\n",
    "       "
   ]
  },
  {
   "cell_type": "code",
   "execution_count": null,
   "id": "c016b7a8",
   "metadata": {},
   "outputs": [],
   "source": []
  },
  {
   "cell_type": "code",
   "execution_count": null,
   "id": "d80d4b05",
   "metadata": {},
   "outputs": [],
   "source": []
  },
  {
   "cell_type": "code",
   "execution_count": null,
   "id": "c0992854",
   "metadata": {},
   "outputs": [],
   "source": []
  },
  {
   "cell_type": "code",
   "execution_count": null,
   "id": "3cef75fa",
   "metadata": {},
   "outputs": [],
   "source": []
  },
  {
   "cell_type": "code",
   "execution_count": null,
   "id": "c971661e",
   "metadata": {},
   "outputs": [],
   "source": []
  },
  {
   "cell_type": "code",
   "execution_count": null,
   "id": "91d75b82",
   "metadata": {},
   "outputs": [],
   "source": []
  }
 ],
 "metadata": {
  "kernelspec": {
   "display_name": "Python 3",
   "language": "python",
   "name": "python3"
  },
  "language_info": {
   "codemirror_mode": {
    "name": "ipython",
    "version": 3
   },
   "file_extension": ".py",
   "mimetype": "text/x-python",
   "name": "python",
   "nbconvert_exporter": "python",
   "pygments_lexer": "ipython3",
   "version": "3.8.8"
  }
 },
 "nbformat": 4,
 "nbformat_minor": 5
}
