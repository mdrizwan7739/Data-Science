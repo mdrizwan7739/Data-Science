{
 "cells": [
  {
   "cell_type": "markdown",
   "id": "d2cd2168",
   "metadata": {},
   "source": [
    "1. Write a python program to find sum of array ?"
   ]
  },
  {
   "cell_type": "code",
   "execution_count": 2,
   "id": "69a8c87a",
   "metadata": {},
   "outputs": [
    {
     "name": "stdout",
     "output_type": "stream",
     "text": [
      "59\n"
     ]
    }
   ],
   "source": [
    "l=[3,6,4,2,1,3,32,8]\n",
    "x=0\n",
    "for i in l :\n",
    "    x=x+i\n",
    "print(x)"
   ]
  },
  {
   "cell_type": "markdown",
   "id": "44c227ae",
   "metadata": {},
   "source": [
    "2. Write a python program to find largest element in an array ?"
   ]
  },
  {
   "cell_type": "code",
   "execution_count": 9,
   "id": "28ac957e",
   "metadata": {},
   "outputs": [
    {
     "name": "stdout",
     "output_type": "stream",
     "text": [
      "48\n"
     ]
    }
   ],
   "source": [
    "l1=[5,9,48,2,1,6]\n",
    "x=max(l1)\n",
    "print(x)"
   ]
  },
  {
   "cell_type": "markdown",
   "id": "8b48d9eb",
   "metadata": {},
   "source": [
    "3. Write a python program for array rotation ?"
   ]
  },
  {
   "cell_type": "code",
   "execution_count": 11,
   "id": "2830823b",
   "metadata": {},
   "outputs": [
    {
     "name": "stdout",
     "output_type": "stream",
     "text": [
      "[66, 88, 55, 99, 44, 77, 11, 33, 22]\n"
     ]
    }
   ],
   "source": [
    "l2=[22,33,11,77,44,99,55,88,66]\n",
    "l3=l2[::-1]\n",
    "print(l3)"
   ]
  },
  {
   "cell_type": "markdown",
   "id": "9fd79600",
   "metadata": {},
   "source": [
    "4. Write a python program to split the array and add the first part to the end ?"
   ]
  },
  {
   "cell_type": "code",
   "execution_count": 15,
   "id": "6d787d8c",
   "metadata": {},
   "outputs": [
    {
     "name": "stdout",
     "output_type": "stream",
     "text": [
      "[71, 21, 81, 31, 91, 31, 11, 61]\n"
     ]
    }
   ],
   "source": [
    "l4=[31,11,61,71,21,81,31,91]\n",
    "l5=l4[:3]\n",
    "l4=l4[3:]+l5[:]\n",
    "print(l4)\n"
   ]
  },
  {
   "cell_type": "markdown",
   "id": "8d5c7233",
   "metadata": {},
   "source": [
    "5. Write a python program to check if given array is monotonic ?"
   ]
  },
  {
   "cell_type": "code",
   "execution_count": 21,
   "id": "0a90908b",
   "metadata": {},
   "outputs": [
    {
     "name": "stdout",
     "output_type": "stream",
     "text": [
      "True\n"
     ]
    }
   ],
   "source": [
    "def isMonotonic(A):\n",
    "\n",
    "    return (all(A[i] <= A[i + 1] for i in range(len(A) - 1)) or\n",
    "             all(A[i] >= A[i + 1] for i in range(len(A) - 1)))\n",
    "\n",
    "\n",
    "A = [32,35,45,56]\n",
    "\n",
    "\n",
    "print(isMonotonic(A))\n",
    "\n",
    "\n",
    "  \n",
    "        \n",
    "            \n",
    "           \n",
    "\n",
    "    "
   ]
  }
 ],
 "metadata": {
  "kernelspec": {
   "display_name": "Python 3",
   "language": "python",
   "name": "python3"
  },
  "language_info": {
   "codemirror_mode": {
    "name": "ipython",
    "version": 3
   },
   "file_extension": ".py",
   "mimetype": "text/x-python",
   "name": "python",
   "nbconvert_exporter": "python",
   "pygments_lexer": "ipython3",
   "version": "3.8.8"
  }
 },
 "nbformat": 4,
 "nbformat_minor": 5
}
