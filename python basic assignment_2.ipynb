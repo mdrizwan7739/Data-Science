{
 "cells": [
  {
   "cell_type": "markdown",
   "id": "ed2d392b",
   "metadata": {},
   "source": [
    "1.  What are the two values of the Boolean data type? How do you write them?"
   ]
  },
  {
   "cell_type": "code",
   "execution_count": null,
   "id": "882484f2",
   "metadata": {},
   "outputs": [],
   "source": [
    "Two Boolean data types are:\n",
    "    1. True\n",
    "    2. False\n",
    "    \n",
    "    1. True == 1\n",
    "    2. False == 0\n",
    "We can evaluate any expression in python and get one of the two answers: True or False"
   ]
  },
  {
   "cell_type": "code",
   "execution_count": 1,
   "id": "11cbe103",
   "metadata": {},
   "outputs": [
    {
     "name": "stdout",
     "output_type": "stream",
     "text": [
      "True\n"
     ]
    }
   ],
   "source": [
    "#Example:\n",
    "print(10>9)"
   ]
  },
  {
   "cell_type": "code",
   "execution_count": 2,
   "id": "8b47b4c0",
   "metadata": {},
   "outputs": [
    {
     "name": "stdout",
     "output_type": "stream",
     "text": [
      "False\n"
     ]
    }
   ],
   "source": [
    "\n",
    "print(11<9)"
   ]
  },
  {
   "cell_type": "markdown",
   "id": "23d1a719",
   "metadata": {},
   "source": [
    "2. What are the three different types of Boolean operators?"
   ]
  },
  {
   "cell_type": "code",
   "execution_count": null,
   "id": "a55cfd2c",
   "metadata": {},
   "outputs": [],
   "source": [
    "Three different types of boolean operators are:\n",
    "        1. and\n",
    "        2. or\n",
    "        3. not"
   ]
  },
  {
   "cell_type": "code",
   "execution_count": 3,
   "id": "852b37f9",
   "metadata": {},
   "outputs": [
    {
     "name": "stdout",
     "output_type": "stream",
     "text": [
      "True\n"
     ]
    }
   ],
   "source": [
    "if 10>9 and 10>8:\n",
    "    print(True)"
   ]
  },
  {
   "cell_type": "code",
   "execution_count": 4,
   "id": "e1a4f4bd",
   "metadata": {},
   "outputs": [
    {
     "name": "stdout",
     "output_type": "stream",
     "text": [
      "True\n"
     ]
    }
   ],
   "source": [
    "if 10>11 or 10>8:\n",
    "    print(True)"
   ]
  },
  {
   "cell_type": "code",
   "execution_count": 5,
   "id": "d2675e74",
   "metadata": {},
   "outputs": [
    {
     "name": "stdout",
     "output_type": "stream",
     "text": [
      "[1, 2, 3, 4]\n"
     ]
    }
   ],
   "source": [
    "l = [1,2,3,4]\n",
    "m = []\n",
    "for i in l:\n",
    "    if i not in m:\n",
    "        m.append(i)\n",
    "print(m)"
   ]
  },
  {
   "cell_type": "markdown",
   "id": "c66c607b",
   "metadata": {},
   "source": [
    "3. Make a list of each Boolean operator's truth tables (i.e. every possible combination of Boolean values for the operator and what it evaluate )."
   ]
  },
  {
   "cell_type": "markdown",
   "id": "bba39e70",
   "metadata": {},
   "source": [
    "True == 1 and False == 0\n",
    "     x  y  x or y\n",
    "     0  0     0     \n",
    "     0  1     1\n",
    "     1  0     1\n",
    "     1  1     1\n",
    "     \n",
    "     x  y  x and y\n",
    "     0  0     0     \n",
    "     0  1     0\n",
    "     1  0     0\n",
    "     1  1     1"
   ]
  },
  {
   "cell_type": "markdown",
   "id": "a4d93686",
   "metadata": {},
   "source": [
    "4. What are the values of the following expressions?\n",
    "(5 > 4) and (3 == 5)\n",
    "not (5 > 4)\n",
    "(5 > 4) or (3 == 5)\n",
    "not ((5 > 4) or (3 == 5))\n",
    "(True and True) and (True == False)\n",
    "(not False) or (not True)\n"
   ]
  },
  {
   "cell_type": "code",
   "execution_count": 6,
   "id": "44cf256b",
   "metadata": {},
   "outputs": [
    {
     "name": "stdout",
     "output_type": "stream",
     "text": [
      "(5 > 4) and (3 == 5)--> False\n",
      "not(5>4)--> False\n",
      "(5>4)or(3==5)--> True\n",
      "not ((5 > 4) or (3 == 5))--> False\n",
      "(True and True) and (True == False)--> False\n",
      "(not False) or (not True)--> True\n"
     ]
    }
   ],
   "source": [
    "print(\"(5 > 4) and (3 == 5)-->\",(5 > 4) and (3 == 5))\n",
    "print(\"not(5>4)-->\",not(5>4))\n",
    "print(\"(5>4)or(3==5)-->\",(5>4)or(3==5))\n",
    "print(\"not ((5 > 4) or (3 == 5))-->\",not ((5 > 4) or (3 == 5)))\n",
    "print(\"(True and True) and (True == False)-->\",(True and True) and (True == False))\n",
    "print(\"(not False) or (not True)-->\",(not False) or (not True))"
   ]
  },
  {
   "cell_type": "markdown",
   "id": "a4d9c0bc",
   "metadata": {},
   "source": [
    "5. What are the six comparison operators?"
   ]
  },
  {
   "cell_type": "code",
   "execution_count": null,
   "id": "8185472d",
   "metadata": {},
   "outputs": [],
   "source": [
    "Comparisor operators are as follows:\n",
    "    1. <  greater than\n",
    "    2. >  less than\n",
    "    3. <= less than equal to\n",
    "    4. >= greater than equal to\n",
    "    5. == equal to\n",
    "    6. != not equal to"
   ]
  },
  {
   "cell_type": "markdown",
   "id": "8a70e486",
   "metadata": {},
   "source": [
    "6. How do you tell the difference between the equal to and assignment operators?Describe a condition and when you would use one."
   ]
  },
  {
   "cell_type": "code",
   "execution_count": null,
   "id": "46d17a13",
   "metadata": {},
   "outputs": [],
   "source": [
    "== is equal to i.e double = sign\n",
    "= is assignment operator\n",
    "\n",
    "for example:"
   ]
  },
  {
   "cell_type": "code",
   "execution_count": 7,
   "id": "7fbece29",
   "metadata": {},
   "outputs": [
    {
     "name": "stdout",
     "output_type": "stream",
     "text": [
      "True\n"
     ]
    }
   ],
   "source": [
    "# Assignment operator example\n",
    "a = 10\n",
    "b = 10  \n",
    "\n",
    "# Equal to operator example\n",
    "if a==b:\n",
    "    print(True)"
   ]
  },
  {
   "cell_type": "code",
   "execution_count": 8,
   "id": "72f40a74",
   "metadata": {},
   "outputs": [
    {
     "ename": "SyntaxError",
     "evalue": "invalid syntax (<ipython-input-8-4df0bd766c66>, line 1)",
     "output_type": "error",
     "traceback": [
      "\u001b[1;36m  File \u001b[1;32m\"<ipython-input-8-4df0bd766c66>\"\u001b[1;36m, line \u001b[1;32m1\u001b[0m\n\u001b[1;33m    7. Identify the three blocks in this code:\u001b[0m\n\u001b[1;37m       ^\u001b[0m\n\u001b[1;31mSyntaxError\u001b[0m\u001b[1;31m:\u001b[0m invalid syntax\n"
     ]
    }
   ],
   "source": [
    "7. Identify the three blocks in this code:"
   ]
  },
  {
   "cell_type": "code",
   "execution_count": 10,
   "id": "3a0835f2",
   "metadata": {},
   "outputs": [
    {
     "name": "stdout",
     "output_type": "stream",
     "text": [
      "spam\n"
     ]
    }
   ],
   "source": [
    "spam = 0\n",
    "if spam == 10:\n",
    "    print('eggs')\n",
    "    if spam > 5:\n",
    "        print('bacon')\n",
    "    else:\n",
    "        print('ham')\n",
    "    print('spam')\n",
    "print('spam')"
   ]
  },
  {
   "cell_type": "markdown",
   "id": "50f59525",
   "metadata": {},
   "source": [
    "8. Write code that prints Hello if 1 is stored in spam, prints Howdy if 2 is stored in spam, and prints Greetings! if anything else is stored in spam."
   ]
  },
  {
   "cell_type": "code",
   "execution_count": 11,
   "id": "d4059d17",
   "metadata": {},
   "outputs": [
    {
     "name": "stdout",
     "output_type": "stream",
     "text": [
      "1\n",
      "Hello\n"
     ]
    }
   ],
   "source": [
    "spam = int(input())\n",
    "\n",
    "if spam==1:\n",
    "    print(\"Hello\")\n",
    "elif spam==2:\n",
    "    print(\"Howdy\")\n",
    "else:\n",
    "    print(\"Greetings!\")"
   ]
  },
  {
   "cell_type": "code",
   "execution_count": 13,
   "id": "807d43d2",
   "metadata": {},
   "outputs": [
    {
     "name": "stdout",
     "output_type": "stream",
     "text": [
      "2\n",
      "Howdy\n"
     ]
    }
   ],
   "source": [
    "spam = int(input())\n",
    "\n",
    "if spam==1:\n",
    "    print(\"Hello\")\n",
    "elif spam==2:\n",
    "    print(\"Howdy\")\n",
    "else:\n",
    "    print(\"Greetings!\")"
   ]
  },
  {
   "cell_type": "code",
   "execution_count": 14,
   "id": "a3b64615",
   "metadata": {},
   "outputs": [
    {
     "name": "stdout",
     "output_type": "stream",
     "text": [
      "3\n",
      "Greetings!\n"
     ]
    }
   ],
   "source": [
    "spam = int(input())\n",
    "\n",
    "if spam==1:\n",
    "    print(\"Hello\")\n",
    "elif spam==2:\n",
    "    print(\"Howdy\")\n",
    "else:\n",
    "    print(\"Greetings!\")"
   ]
  },
  {
   "cell_type": "markdown",
   "id": "c0c25311",
   "metadata": {},
   "source": [
    "9.If your programme is stuck in an endless loop, what keys you’ll press?"
   ]
  },
  {
   "cell_type": "markdown",
   "id": "ff600701",
   "metadata": {},
   "source": [
    "In case of jupyter we can stop kernal.\n",
    "In case of command line prompt press Ctrl+C"
   ]
  },
  {
   "cell_type": "markdown",
   "id": "da3eb447",
   "metadata": {},
   "source": [
    "10. How can you tell the difference between break and continue?"
   ]
  },
  {
   "cell_type": "code",
   "execution_count": 16,
   "id": "fe1154f8",
   "metadata": {},
   "outputs": [
    {
     "name": "stdout",
     "output_type": "stream",
     "text": [
      "0\n",
      "1\n",
      "2\n",
      "3\n",
      "4\n"
     ]
    }
   ],
   "source": [
    "#example of break:\n",
    "for i in range(10):\n",
    "    if i==5:\n",
    "        break\n",
    "    print(i)"
   ]
  },
  {
   "cell_type": "code",
   "execution_count": 17,
   "id": "374762ce",
   "metadata": {},
   "outputs": [
    {
     "name": "stdout",
     "output_type": "stream",
     "text": [
      "10\n",
      "20\n",
      "40\n",
      "50\n"
     ]
    }
   ],
   "source": [
    "\n",
    "l = [10,20,30,40,50]\n",
    "for i in l:\n",
    "    if i==30:\n",
    "        continue\n",
    "    print(i)"
   ]
  },
  {
   "cell_type": "markdown",
   "id": "cc77a8f5",
   "metadata": {},
   "source": [
    "11. In a for loop, what is the difference between range(10), range(0, 10), and range(0, 10, 1)?"
   ]
  },
  {
   "cell_type": "code",
   "execution_count": null,
   "id": "bc5b9981",
   "metadata": {},
   "outputs": [],
   "source": [
    "both range(10) and range(0,10) are same because the both give numbers from 0 to 9.\n",
    "also in case of range(0,10,1) give same output starting from 0 with increment of 1 \n",
    "upto 9"
   ]
  },
  {
   "cell_type": "markdown",
   "id": "140b99db",
   "metadata": {},
   "source": [
    "12. Write a short program that prints the numbers 1 to 10 using a for loop. Then write an equivalent program that prints the numbers 1 to 10 using a while loop."
   ]
  },
  {
   "cell_type": "code",
   "execution_count": 18,
   "id": "a304a18e",
   "metadata": {},
   "outputs": [
    {
     "name": "stdout",
     "output_type": "stream",
     "text": [
      "1\n",
      "2\n",
      "3\n",
      "4\n",
      "5\n",
      "6\n",
      "7\n",
      "8\n",
      "9\n",
      "10\n"
     ]
    }
   ],
   "source": [
    "#for loop:\n",
    "\n",
    "for i in range(1,11):\n",
    "    print(i)"
   ]
  },
  {
   "cell_type": "code",
   "execution_count": 19,
   "id": "3f61528c",
   "metadata": {},
   "outputs": [
    {
     "name": "stdout",
     "output_type": "stream",
     "text": [
      "1\n",
      "2\n",
      "3\n",
      "4\n",
      "5\n",
      "6\n",
      "7\n",
      "8\n",
      "9\n",
      "10\n"
     ]
    }
   ],
   "source": [
    "#while loop:\n",
    "i = 1\n",
    "while i>0 and i<=10:\n",
    "    print(i)\n",
    "    i = i+1"
   ]
  },
  {
   "cell_type": "markdown",
   "id": "db0b689c",
   "metadata": {},
   "source": [
    "13. If you had a function named bacon() inside a module named spam, how would you call it after importing spam?"
   ]
  },
  {
   "cell_type": "code",
   "execution_count": null,
   "id": "c6452ccc",
   "metadata": {},
   "outputs": [],
   "source": [
    "from spam import bacon\n",
    "\n",
    "or\n",
    "\n",
    "spam.bacon()"
   ]
  },
  {
   "cell_type": "code",
   "execution_count": null,
   "id": "7974c333",
   "metadata": {},
   "outputs": [],
   "source": []
  }
 ],
 "metadata": {
  "kernelspec": {
   "display_name": "Python 3",
   "language": "python",
   "name": "python3"
  },
  "language_info": {
   "codemirror_mode": {
    "name": "ipython",
    "version": 3
   },
   "file_extension": ".py",
   "mimetype": "text/x-python",
   "name": "python",
   "nbconvert_exporter": "python",
   "pygments_lexer": "ipython3",
   "version": "3.8.8"
  }
 },
 "nbformat": 4,
 "nbformat_minor": 5
}
