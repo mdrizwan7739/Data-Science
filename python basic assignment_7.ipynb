{
 "cells": [
  {
   "cell_type": "markdown",
   "id": "3a2dc304",
   "metadata": {},
   "source": [
    "1. What is the name of the feature responsible for generating Regex objects?"
   ]
  },
  {
   "cell_type": "code",
   "execution_count": null,
   "id": "b4bbe43e",
   "metadata": {},
   "outputs": [],
   "source": [
    "re module is used for generation of Regex objects ."
   ]
  },
  {
   "cell_type": "markdown",
   "id": "7dbda3ee",
   "metadata": {},
   "source": [
    "2. Why do raw strings often appear in Regex objects?"
   ]
  },
  {
   "cell_type": "code",
   "execution_count": null,
   "id": "dc7f433e",
   "metadata": {},
   "outputs": [],
   "source": [
    "to prevent backslash from excaping."
   ]
  },
  {
   "cell_type": "markdown",
   "id": "35ee7833",
   "metadata": {},
   "source": [
    "3. What is the return value of the search() method?"
   ]
  },
  {
   "cell_type": "code",
   "execution_count": null,
   "id": "f78bf275",
   "metadata": {},
   "outputs": [],
   "source": [
    "if it finds the pattern then it returns match object else none."
   ]
  },
  {
   "cell_type": "code",
   "execution_count": null,
   "id": "7ab3ba44",
   "metadata": {},
   "outputs": [],
   "source": [
    "4. From a Match item, how do you get the actual strings that match the pattern?"
   ]
  },
  {
   "cell_type": "code",
   "execution_count": null,
   "id": "f3fd28f1",
   "metadata": {},
   "outputs": [],
   "source": [
    "group() method returns matched pattern"
   ]
  },
  {
   "cell_type": "markdown",
   "id": "c7b712cd",
   "metadata": {},
   "source": [
    "5. In the regex which created from the r'(\\d\\d\\d)-(\\d\\d\\d-\\d\\d\\d\\d)', what does group zero cover? Group 2? Group 1?"
   ]
  },
  {
   "cell_type": "raw",
   "id": "71028d70",
   "metadata": {},
   "source": [
    "group 0 covers whole part\n",
    "group 1 covers first part\n",
    "group 2 covers second part"
   ]
  },
  {
   "cell_type": "markdown",
   "id": "b6d20333",
   "metadata": {},
   "source": [
    "6. In standard expression syntax, parentheses and intervals have distinct meanings. How can you tell a regex that you want it to fit real parentheses and periods?"
   ]
  },
  {
   "cell_type": "code",
   "execution_count": null,
   "id": "1386933c",
   "metadata": {},
   "outputs": [],
   "source": [
    "\\., \\(, and \\)"
   ]
  },
  {
   "cell_type": "markdown",
   "id": "9f8fb188",
   "metadata": {},
   "source": [
    "7. The findall() method returns a string list or a list of string tuples. What causes it to return one of the two options?"
   ]
  },
  {
   "cell_type": "code",
   "execution_count": null,
   "id": "5d818139",
   "metadata": {},
   "outputs": [],
   "source": [
    "when we enclose our pattern inside \"()\" it will return tuple\n",
    "when we enclose our pattern without using \"()\" it will return tuple"
   ]
  },
  {
   "cell_type": "markdown",
   "id": "842a3898",
   "metadata": {},
   "source": [
    "8. In standard expressions, what does the | character mean?"
   ]
  },
  {
   "cell_type": "code",
   "execution_count": null,
   "id": "f9079e41",
   "metadata": {},
   "outputs": [],
   "source": [
    "\n",
    "in standard ecpression \" | \" means  Alternation / OR operand."
   ]
  },
  {
   "cell_type": "markdown",
   "id": "b8c93bab",
   "metadata": {},
   "source": [
    "9. In regular expressions, what does the character stand for?"
   ]
  },
  {
   "cell_type": "code",
   "execution_count": null,
   "id": "3896e4c2",
   "metadata": {},
   "outputs": [],
   "source": [
    "it stands for match zero or one of the preceding group"
   ]
  },
  {
   "cell_type": "markdown",
   "id": "5642c752",
   "metadata": {},
   "source": [
    "10.In regular expressions, what is the difference between the + and * characters?"
   ]
  },
  {
   "cell_type": "code",
   "execution_count": null,
   "id": "219e82c4",
   "metadata": {},
   "outputs": [],
   "source": [
    "+ means one or more\n",
    "* means zero or more"
   ]
  },
  {
   "cell_type": "markdown",
   "id": "913cd0ce",
   "metadata": {},
   "source": [
    "11. What is the difference between {4} and {4,5} in regular expression?"
   ]
  },
  {
   "cell_type": "code",
   "execution_count": null,
   "id": "50b836a4",
   "metadata": {},
   "outputs": [],
   "source": [
    "{4} Matches the expression to its left 4 times, and not less.\n",
    "{4,5) Matches the expression to its left 4 to 5 times, and not less."
   ]
  },
  {
   "cell_type": "markdown",
   "id": "07ec5b1c",
   "metadata": {},
   "source": [
    "12. What do you mean by the \\d, \\w, and \\s shorthand character classes signify in regular expressions?"
   ]
  },
  {
   "cell_type": "code",
   "execution_count": null,
   "id": "a4234318",
   "metadata": {},
   "outputs": [],
   "source": [
    "\\d Matches digits, which means 0-9.\n",
    "\\w Matches alphanumeric characters, which means a-z, A-Z, and 0-9. It also matches the underscore, _.\n",
    "\\s Matches whitespace characters, which include the \\t, \\n, \\r, and space characters."
   ]
  },
  {
   "cell_type": "markdown",
   "id": "db8de592",
   "metadata": {},
   "source": [
    "13. What do means by \\D, \\W, and \\S shorthand character classes signify in regular expressions?"
   ]
  },
  {
   "cell_type": "code",
   "execution_count": null,
   "id": "aec0171e",
   "metadata": {},
   "outputs": [],
   "source": [
    "\\D Matches any non-digits. \n",
    "\\W Matches any non-word character.\n",
    "\\S Matches non-whitespace characters."
   ]
  },
  {
   "cell_type": "code",
   "execution_count": null,
   "id": "40ec91eb",
   "metadata": {},
   "outputs": [],
   "source": [
    "14. What is the difference between .*? and .*?"
   ]
  },
  {
   "cell_type": "code",
   "execution_count": null,
   "id": "4a73f402",
   "metadata": {},
   "outputs": [],
   "source": [
    " .*? adds ?, a quantifier that matches the preceding element (the \".*\" here) 0 or 1 times.\n",
    " .* adds *, a quantifier that matches the preceding element (the \".\" here) 0 or more times."
   ]
  },
  {
   "cell_type": "code",
   "execution_count": null,
   "id": "9e3cd5fa",
   "metadata": {},
   "outputs": [],
   "source": [
    "15. What is the syntax for matching both numbers and lowercase letters with a character class?"
   ]
  },
  {
   "cell_type": "code",
   "execution_count": 3,
   "id": "83cff0d5",
   "metadata": {},
   "outputs": [
    {
     "name": "stdout",
     "output_type": "stream",
     "text": [
      "matched\n"
     ]
    }
   ],
   "source": [
    "import re\n",
    "\n",
    "def match(text):\n",
    "    patterns = '^[a-z0-9]*$'\n",
    "    if re.search(patterns,text):\n",
    "        return \"matched\"\n",
    "    else:\n",
    "        return\"not matched\"\n",
    "    \n",
    "print(match(\"bond123\"))"
   ]
  },
  {
   "cell_type": "code",
   "execution_count": null,
   "id": "7e878388",
   "metadata": {},
   "outputs": [],
   "source": [
    "16. What is the procedure for making a normal expression in regax case insensitive?"
   ]
  },
  {
   "cell_type": "code",
   "execution_count": null,
   "id": "eca69aab",
   "metadata": {},
   "outputs": [],
   "source": [
    "use re.IGNORECASE to search, match, or sub"
   ]
  },
  {
   "cell_type": "markdown",
   "id": "caf435e0",
   "metadata": {},
   "source": [
    "17. What does the . character normally match? What does it match if re.DOTALL is passed as 2nd argument in re.compile()?"
   ]
  },
  {
   "cell_type": "markdown",
   "id": "3c9551cf",
   "metadata": {},
   "source": [
    "dot character matches everything in input except newline character\n",
    "By passing re. DOTALL as the second argument to re. compile() , you can make the dot character match all characters,       including the newline character."
   ]
  },
  {
   "cell_type": "markdown",
   "id": "eeb0e977",
   "metadata": {},
   "source": [
    "18. If numReg = re.compile(r'\\d+'), what will numRegex.sub('X', '11 drummers, 10 pipers, five rings, 4 hen') return?"
   ]
  },
  {
   "cell_type": "markdown",
   "id": "7a38d400",
   "metadata": {},
   "source": [
    "'X drummers, X pipers, five rings, X hens'"
   ]
  },
  {
   "cell_type": "markdown",
   "id": "b21041cb",
   "metadata": {},
   "source": [
    "19. What does passing re.VERBOSE as the 2nd argument to re.compile() allow to do?"
   ]
  },
  {
   "cell_type": "markdown",
   "id": "64fb16b7",
   "metadata": {},
   "source": [
    "it will allow to add whitespace and comments to string passed to re.compile()."
   ]
  },
  {
   "cell_type": "markdown",
   "id": "bd15bca4",
   "metadata": {},
   "source": [
    "20. How would you write a regex that match a number with comma for every three digits? It must match the given following:\n",
    "'42'\n",
    "'1,234'\n",
    "'6,368,745'\n",
    "but not the following:\n",
    "'12,34,567' (which has only two digits between the commas)\n",
    "'1234' (which lacks commas)"
   ]
  },
  {
   "cell_type": "code",
   "execution_count": 4,
   "id": "107a90b5",
   "metadata": {},
   "outputs": [
    {
     "data": {
      "text/plain": [
       "re.compile(r'^\\d{1,3}(,\\d{3})*$', re.UNICODE)"
      ]
     },
     "execution_count": 4,
     "metadata": {},
     "output_type": "execute_result"
    }
   ],
   "source": [
    "re.compile(r'^\\d{1,3}(,\\d{3})*$')"
   ]
  },
  {
   "cell_type": "markdown",
   "id": "bfe2199b",
   "metadata": {},
   "source": [
    "21. How would you write a regex that matches the full name of someone whose last name is Watanabe? You can assume that the first name that comes before it will always be one word that begins with a capital letter. The regex must match the following:\n",
    "'Haruto Watanabe'\n",
    "'Alice Watanabe'\n",
    "'RoboCop Watanabe'\n",
    "but not the following:\n",
    "'haruto Watanabe' (where the first name is not capitalized)\n",
    "'Mr. Watanabe' (where the preceding word has a nonletter character)\n",
    "'Watanabe' (which has no first name)\n",
    "'Haruto watanabe' (where Watanabe is not capitalized)"
   ]
  },
  {
   "cell_type": "code",
   "execution_count": 5,
   "id": "0ae184cd",
   "metadata": {},
   "outputs": [
    {
     "data": {
      "text/plain": [
       "re.compile(r'[A-Z][a-z]*\\sNakamoto', re.UNICODE)"
      ]
     },
     "execution_count": 5,
     "metadata": {},
     "output_type": "execute_result"
    }
   ],
   "source": [
    "re.compile(r'[A-Z][a-z]*\\sNakamoto')"
   ]
  },
  {
   "cell_type": "markdown",
   "id": "c3529deb",
   "metadata": {},
   "source": [
    "22. How would you write a regex that matches a sentence where the first word is either Alice, Bob, or Carol; the second word is either eats, pets, or throws; the third word is apples, cats, or baseballs; and the sentence ends with a period? This regex should be case-insensitive. It must match the following:\n",
    "'Alice eats apples.'\n",
    "'Bob pets cats.'\n",
    "'Carol throws baseballs.'\n",
    "'Alice throws Apples.'\n",
    "'BOB EATS CATS.'\n",
    "but not the following:\n",
    "'RoboCop eats apples.'\n",
    "'ALICE THROWS FOOTBALLS.'\n",
    "'Carol eats 7 cats.'"
   ]
  },
  {
   "cell_type": "code",
   "execution_count": 6,
   "id": "12bb5bbf",
   "metadata": {},
   "outputs": [
    {
     "data": {
      "text/plain": [
       "re.compile(r'(Alice|Bob|Carol)\\s(eats|pets|throws)\\s(apples|cats|baseballs)\\.',\n",
       "re.IGNORECASE|re.UNICODE)"
      ]
     },
     "execution_count": 6,
     "metadata": {},
     "output_type": "execute_result"
    }
   ],
   "source": [
    "re.compile(r'(Alice|Bob|Carol)\\s(eats|pets|throws)\\s(apples|cats|baseballs)\\.', re.IGNORECASE)"
   ]
  },
  {
   "cell_type": "code",
   "execution_count": null,
   "id": "c6aed66f",
   "metadata": {},
   "outputs": [],
   "source": []
  }
 ],
 "metadata": {
  "kernelspec": {
   "display_name": "Python 3",
   "language": "python",
   "name": "python3"
  },
  "language_info": {
   "codemirror_mode": {
    "name": "ipython",
    "version": 3
   },
   "file_extension": ".py",
   "mimetype": "text/x-python",
   "name": "python",
   "nbconvert_exporter": "python",
   "pygments_lexer": "ipython3",
   "version": "3.8.8"
  }
 },
 "nbformat": 4,
 "nbformat_minor": 5
}
