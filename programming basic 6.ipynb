{
 "cells": [
  {
   "cell_type": "markdown",
   "id": "f0dd19d2",
   "metadata": {},
   "source": [
    "1.Write a python program to display finonacci sequence using recursion ?"
   ]
  },
  {
   "cell_type": "code",
   "execution_count": 8,
   "id": "d2d516cb",
   "metadata": {},
   "outputs": [
    {
     "name": "stdout",
     "output_type": "stream",
     "text": [
      "Fibonacci sequence:\n",
      "0\n",
      "1\n",
      "1\n",
      "2\n",
      "3\n",
      "5\n",
      "8\n",
      "13\n",
      "21\n",
      "34\n"
     ]
    }
   ],
   "source": [
    "\n",
    "def recur_fibo(n):\n",
    "   if n <= 1:\n",
    "       return n\n",
    "   else:\n",
    "       return(recur_fibo(n-1) + recur_fibo(n-2))\n",
    "\n",
    "nterms = 10\n",
    "\n",
    "# check if the number of terms is valid\n",
    "if nterms <= 0:\n",
    "   print(\"Plese enter a positive integer\")\n",
    "else:\n",
    "   print(\"Fibonacci sequence:\")\n",
    "   for i in range(nterms):\n",
    "       print(recur_fibo(i))"
   ]
  },
  {
   "cell_type": "markdown",
   "id": "99dd101f",
   "metadata": {},
   "source": [
    "2.Write a python program to find factorial of number using recursion ?"
   ]
  },
  {
   "cell_type": "code",
   "execution_count": 3,
   "id": "24453b6c",
   "metadata": {},
   "outputs": [
    {
     "data": {
      "text/plain": [
       "120"
      ]
     },
     "execution_count": 3,
     "metadata": {},
     "output_type": "execute_result"
    }
   ],
   "source": [
    "def fact(n):\n",
    "    if n==0:\n",
    "        return 1\n",
    "    return n*fact(n-1)\n",
    "\n",
    "fact(5)"
   ]
  },
  {
   "cell_type": "markdown",
   "id": "f936b4cd",
   "metadata": {},
   "source": [
    "3.Write a python program to calculate your Body Mass Index ?"
   ]
  },
  {
   "cell_type": "code",
   "execution_count": 5,
   "id": "2dbe1360",
   "metadata": {},
   "outputs": [
    {
     "name": "stdout",
     "output_type": "stream",
     "text": [
      "Enter weight in kg: 100\n",
      "100.0 kg\n",
      "Enter height in m: 1\n",
      "1.0 m\n",
      "Your BMI is:  100.0\n",
      "overweight\n"
     ]
    }
   ],
   "source": [
    "def bmi(wt,ht):\n",
    "    result = wt/ht**2\n",
    "    print(\"Your BMI is: \",result)\n",
    "    if result>= 18.5 and result<=24.9:\n",
    "        print(\"Healthy Range\")\n",
    "    elif result<18.5:\n",
    "        print(\"Underweight\")\n",
    "    else:\n",
    "        print(\"overweight\")\n",
    "    \n",
    "weight = float(input(\"Enter weight in kg: \"))\n",
    "print(weight,\"kg\")\n",
    "height = float(input(\"Enter height in m: \"))\n",
    "print(height,\"m\")\n",
    "\n",
    "bmi(weight,height)"
   ]
  },
  {
   "cell_type": "markdown",
   "id": "f7fe16fd",
   "metadata": {},
   "source": [
    "4.Write a python program to calculate natural logarithmic of any number ?"
   ]
  },
  {
   "cell_type": "code",
   "execution_count": 6,
   "id": "d012adfb",
   "metadata": {},
   "outputs": [
    {
     "name": "stdout",
     "output_type": "stream",
     "text": [
      "Enter any number: 10\n",
      "2.302585092994046\n"
     ]
    }
   ],
   "source": [
    "import math\n",
    "n = float(input(\"Enter any number: \"))\n",
    "print(math.log(n))"
   ]
  },
  {
   "cell_type": "markdown",
   "id": "1e17392c",
   "metadata": {},
   "source": [
    "5.Write a python program for cube sum of first N natural numbers?"
   ]
  },
  {
   "cell_type": "code",
   "execution_count": 7,
   "id": "a2875e2e",
   "metadata": {},
   "outputs": [
    {
     "name": "stdout",
     "output_type": "stream",
     "text": [
      "225\n"
     ]
    }
   ],
   "source": [
    "def cube_sum(n):\n",
    "    result = 0\n",
    "    for i in range(1,n+1):\n",
    "        result = result+(i*i*i)\n",
    "    return result\n",
    "\n",
    "\n",
    "print(cube_sum(5))"
   ]
  },
  {
   "cell_type": "code",
   "execution_count": null,
   "id": "dd38904b",
   "metadata": {},
   "outputs": [],
   "source": []
  }
 ],
 "metadata": {
  "kernelspec": {
   "display_name": "Python 3",
   "language": "python",
   "name": "python3"
  },
  "language_info": {
   "codemirror_mode": {
    "name": "ipython",
    "version": 3
   },
   "file_extension": ".py",
   "mimetype": "text/x-python",
   "name": "python",
   "nbconvert_exporter": "python",
   "pygments_lexer": "ipython3",
   "version": "3.8.8"
  }
 },
 "nbformat": 4,
 "nbformat_minor": 5
}
