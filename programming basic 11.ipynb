{
 "cells": [
  {
   "cell_type": "markdown",
   "id": "97549d55",
   "metadata": {},
   "source": [
    "1. Write a python program to find words which are greater than given length k?"
   ]
  },
  {
   "cell_type": "code",
   "execution_count": 1,
   "id": "cedd9092",
   "metadata": {},
   "outputs": [
    {
     "name": "stdout",
     "output_type": "stream",
     "text": [
      "Enter the value of k to find the words which are greater than k  5\n",
      "abcdef\n",
      "qwerty\n",
      "tyuiop\n"
     ]
    }
   ],
   "source": [
    "k=int (input(\"Enter the value of k to find the words which are greater than k  \"))\n",
    "l=[\"zzz\",\"abcdef\",\"qwerty\",\"sss\",\"kk\",\"tyuiop\",\"aaa\",\"qqqq\"]\n",
    "for i in l:\n",
    "    if (len(i)>k):\n",
    "        print(i)"
   ]
  },
  {
   "cell_type": "markdown",
   "id": "1eae2419",
   "metadata": {},
   "source": [
    "2. Write a python program for removing i-th character from a string ?"
   ]
  },
  {
   "cell_type": "code",
   "execution_count": 19,
   "id": "089ba7a8",
   "metadata": {},
   "outputs": [
    {
     "name": "stdout",
     "output_type": "stream",
     "text": [
      "Enter a number  2\n",
      "pyhon\n"
     ]
    }
   ],
   "source": [
    "s=\"python\"\n",
    "i=int(input(\"Enter a number  \"))\n",
    "k=s[:i]+s[i+1:]\n",
    "print(k)\n"
   ]
  },
  {
   "cell_type": "markdown",
   "id": "f58819a8",
   "metadata": {},
   "source": [
    "3. Write a python program to split and join a string ?"
   ]
  },
  {
   "cell_type": "code",
   "execution_count": 20,
   "id": "86bf4dc9",
   "metadata": {},
   "outputs": [
    {
     "name": "stdout",
     "output_type": "stream",
     "text": [
      "qwe\n",
      "rty\n",
      "qwerty\n"
     ]
    }
   ],
   "source": [
    "s=\"qwerty\"\n",
    "k=s[:3]\n",
    "z=s[3:]\n",
    "a=k+z\n",
    "print(k)\n",
    "print(z)\n",
    "print(a)"
   ]
  },
  {
   "cell_type": "markdown",
   "id": "8bfebe65",
   "metadata": {},
   "source": [
    "4. Write a python program to check if a given string is binary string or not ?"
   ]
  },
  {
   "cell_type": "code",
   "execution_count": 66,
   "id": "ea2ffa07",
   "metadata": {},
   "outputs": [
    {
     "name": "stdout",
     "output_type": "stream",
     "text": [
      "binary\n"
     ]
    }
   ],
   "source": [
    "s=\"100101\"\n",
    "k=\"01\"\n",
    "count=1\n",
    "for i in s:\n",
    "    if i not in k:\n",
    "        count=0\n",
    "    else:\n",
    "        pass\n",
    "                   \n",
    "if count:\n",
    "    print(\"binary\")\n",
    "else:\n",
    "    print(\"not binary\")\n",
    "            "
   ]
  },
  {
   "cell_type": "markdown",
   "id": "01cd84d2",
   "metadata": {},
   "source": [
    "5. Write a python program to find uncommon words from two string ?"
   ]
  },
  {
   "cell_type": "code",
   "execution_count": 88,
   "id": "a69c21cf",
   "metadata": {},
   "outputs": [],
   "source": [
    "a=\"this is a pen\" \n",
    "b=\"this is not my book\"\n",
    "def uncommon (x,s):\n",
    "    s=s.split()\n",
    "    x=x.split()\n",
    "    z=set(x).symmetric_difference(set(s))\n",
    "    return z\n"
   ]
  },
  {
   "cell_type": "code",
   "execution_count": 89,
   "id": "ff90a79e",
   "metadata": {},
   "outputs": [
    {
     "data": {
      "text/plain": [
       "{'a', 'book', 'my', 'not', 'pen'}"
      ]
     },
     "execution_count": 89,
     "metadata": {},
     "output_type": "execute_result"
    }
   ],
   "source": [
    "uncommon(a,b)"
   ]
  },
  {
   "cell_type": "markdown",
   "id": "b9da9e4d",
   "metadata": {},
   "source": [
    "6. Write a python program to find all duplicate characters in string ?"
   ]
  },
  {
   "cell_type": "code",
   "execution_count": 92,
   "id": "744d432f",
   "metadata": {},
   "outputs": [
    {
     "name": "stdout",
     "output_type": "stream",
     "text": [
      "this\n",
      "is\n"
     ]
    }
   ],
   "source": [
    "a=\"this is a pen\"\n",
    "b=\"this is not my book\"\n",
    "a=a.split()\n",
    "b=b.split()\n",
    "for i in a:\n",
    "    for j in b:\n",
    "        if i==j:\n",
    "            print(i)\n"
   ]
  },
  {
   "cell_type": "markdown",
   "id": "205042af",
   "metadata": {},
   "source": [
    "7. Write a python program to check if a string contains any special character ?"
   ]
  },
  {
   "cell_type": "code",
   "execution_count": 116,
   "id": "784cfe4b",
   "metadata": {},
   "outputs": [
    {
     "name": "stdout",
     "output_type": "stream",
     "text": [
      "Text has special characters.\n"
     ]
    }
   ],
   "source": [
    "text = 'text??'\n",
    "\n",
    "from string import ascii_letters, digits\n",
    "\n",
    "if set(text).difference(ascii_letters + digits):\n",
    "    print('Text has special characters.')\n",
    "else:\n",
    "    print(\"Text hasn't special characters.\")"
   ]
  },
  {
   "cell_type": "code",
   "execution_count": null,
   "id": "246929ff",
   "metadata": {},
   "outputs": [],
   "source": []
  }
 ],
 "metadata": {
  "kernelspec": {
   "display_name": "Python 3",
   "language": "python",
   "name": "python3"
  },
  "language_info": {
   "codemirror_mode": {
    "name": "ipython",
    "version": 3
   },
   "file_extension": ".py",
   "mimetype": "text/x-python",
   "name": "python",
   "nbconvert_exporter": "python",
   "pygments_lexer": "ipython3",
   "version": "3.8.8"
  }
 },
 "nbformat": 4,
 "nbformat_minor": 5
}
