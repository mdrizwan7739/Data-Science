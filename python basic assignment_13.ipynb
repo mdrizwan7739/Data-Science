{
 "cells": [
  {
   "cell_type": "markdown",
   "id": "ad61583a",
   "metadata": {},
   "source": [
    "1. What advantages do Excel spreadsheets have over CSV spreadsheets?\n",
    "\n",
    "\n",
    "\n",
    "\n",
    "\n",
    "\n"
   ]
  },
  {
   "cell_type": "code",
   "execution_count": null,
   "id": "dec6feef",
   "metadata": {},
   "outputs": [],
   "source": [
    "We can perform various operations on data in excel but no in csv.\n",
    "Excel can store more complex data.\n",
    "No distinction between data type in csv"
   ]
  },
  {
   "cell_type": "code",
   "execution_count": null,
   "id": "e4fe2446",
   "metadata": {},
   "outputs": [],
   "source": [
    "2.What do you pass to csv.reader() and csv.writer() to create reader and writer objects?"
   ]
  },
  {
   "cell_type": "code",
   "execution_count": 1,
   "id": "6c5c92dc",
   "metadata": {},
   "outputs": [],
   "source": [
    "import csv"
   ]
  },
  {
   "cell_type": "code",
   "execution_count": null,
   "id": "1099bc60",
   "metadata": {},
   "outputs": [],
   "source": [
    "In csv.reader() we pass file and dialect.\n",
    "In csv.writer() we pass fileobj and dialect."
   ]
  },
  {
   "cell_type": "code",
   "execution_count": null,
   "id": "eeef563e",
   "metadata": {},
   "outputs": [],
   "source": [
    "3. What modes do File objects for reader and writer objects need to be opened in?"
   ]
  },
  {
   "cell_type": "code",
   "execution_count": null,
   "id": "e9f5f810",
   "metadata": {},
   "outputs": [],
   "source": [
    "for reader object we open file in read mode 'r'\n",
    "and for writer object we open file in write mode 'w'."
   ]
  },
  {
   "cell_type": "markdown",
   "id": "b0e583e2",
   "metadata": {},
   "source": [
    "4. What method takes a list argument and writes it to a CSV file?"
   ]
  },
  {
   "cell_type": "code",
   "execution_count": null,
   "id": "477599db",
   "metadata": {},
   "outputs": [],
   "source": [
    "use writerow() method for list argument in csv file."
   ]
  },
  {
   "cell_type": "markdown",
   "id": "ff33abf6",
   "metadata": {},
   "source": [
    "5. What do the keyword arguments delimiter and line terminator do?"
   ]
  },
  {
   "cell_type": "markdown",
   "id": "7fdd523d",
   "metadata": {},
   "source": [
    "firstname, lastname, age\n",
    "James, Bond, 22\n",
    "Front, Man, 25"
   ]
  },
  {
   "cell_type": "code",
   "execution_count": null,
   "id": "203c6ad8",
   "metadata": {},
   "outputs": [],
   "source": [
    "here ',' is delimiter we can use any character as per our needs."
   ]
  },
  {
   "cell_type": "code",
   "execution_count": null,
   "id": "1532add0",
   "metadata": {},
   "outputs": [],
   "source": [
    "line terminator comes at end of line by default it is newline and can be changed accourding to requirement."
   ]
  },
  {
   "cell_type": "markdown",
   "id": "4163a675",
   "metadata": {},
   "source": [
    "6. What function takes a string of JSON data and returns a Python data structure?"
   ]
  },
  {
   "cell_type": "code",
   "execution_count": null,
   "id": "89b5dee4",
   "metadata": {},
   "outputs": [],
   "source": [
    "dumps() function convert json data into python data structure."
   ]
  },
  {
   "cell_type": "markdown",
   "id": "bbd0b04b",
   "metadata": {},
   "source": [
    "7. What function takes a Python data structure and returns a string of JSON data?"
   ]
  },
  {
   "cell_type": "code",
   "execution_count": null,
   "id": "c571528e",
   "metadata": {},
   "outputs": [],
   "source": [
    "loads() function converts python data structure and returns a string of json data."
   ]
  }
 ],
 "metadata": {
  "kernelspec": {
   "display_name": "Python 3",
   "language": "python",
   "name": "python3"
  },
  "language_info": {
   "codemirror_mode": {
    "name": "ipython",
    "version": 3
   },
   "file_extension": ".py",
   "mimetype": "text/x-python",
   "name": "python",
   "nbconvert_exporter": "python",
   "pygments_lexer": "ipython3",
   "version": "3.8.8"
  }
 },
 "nbformat": 4,
 "nbformat_minor": 5
}
