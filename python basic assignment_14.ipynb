{
 "cells": [
  {
   "cell_type": "markdown",
   "id": "aa0bf74f",
   "metadata": {},
   "source": [
    "1. What does RGBA stand for?"
   ]
  },
  {
   "cell_type": "code",
   "execution_count": null,
   "id": "ad476456",
   "metadata": {},
   "outputs": [],
   "source": [
    "An RGBA value is a group of numbers that specify the amount of red, green, blue, and alpha (or transparency) in a color."
   ]
  },
  {
   "cell_type": "markdown",
   "id": "fecb497a",
   "metadata": {},
   "source": [
    "2. From the Pillow module, how do you get the RGBA value of any images?"
   ]
  },
  {
   "cell_type": "code",
   "execution_count": null,
   "id": "bcd128d0",
   "metadata": {},
   "outputs": [],
   "source": [
    "ImageColor.getcolor() gives rgba value of any image."
   ]
  },
  {
   "cell_type": "markdown",
   "id": "488d3d2e",
   "metadata": {},
   "source": [
    "3. What is a box tuple, and how does it work?"
   ]
  },
  {
   "cell_type": "code",
   "execution_count": null,
   "id": "2e6b0da7",
   "metadata": {},
   "outputs": [],
   "source": [
    "Box tuple is container of tuple of four integers where x-coordinate is represented by left edge, y-coordinate by top\n",
    "edge width and height respectively."
   ]
  },
  {
   "cell_type": "markdown",
   "id": "721c2643",
   "metadata": {},
   "source": [
    "4. Use your image and load in notebook then, How can you find out the width and height of an Image object?"
   ]
  },
  {
   "cell_type": "code",
   "execution_count": 4,
   "id": "6c909a3e",
   "metadata": {},
   "outputs": [
    {
     "name": "stdout",
     "output_type": "stream",
     "text": [
      "Requirement already satisfied: pillow in c:\\users\\abc\\anaconda3\\lib\\site-packages (8.2.0)\n",
      "Note: you may need to restart the kernel to use updated packages.\n"
     ]
    }
   ],
   "source": [
    "pip install pillow \n"
   ]
  },
  {
   "cell_type": "code",
   "execution_count": 7,
   "id": "39f57b3d",
   "metadata": {},
   "outputs": [],
   "source": [
    "import PIL"
   ]
  },
  {
   "cell_type": "code",
   "execution_count": 8,
   "id": "66d46d66",
   "metadata": {},
   "outputs": [
    {
     "name": "stdout",
     "output_type": "stream",
     "text": [
      "width and height of image is 509, 339 respectively\n"
     ]
    }
   ],
   "source": [
    "from PIL import Image\n",
    "\n",
    "pic = PIL.Image.open('trial.jpg')\n",
    "width = pic.width\n",
    "height = pic.height\n",
    "\n",
    "print(\"width and height of image is {}, {} respectively\".format(width,height))"
   ]
  },
  {
   "cell_type": "markdown",
   "id": "7000f636",
   "metadata": {},
   "source": [
    "5. What method would you call to get Image object for a 100×100 image, excluding the lower-left quarter of it?"
   ]
  },
  {
   "cell_type": "code",
   "execution_count": null,
   "id": "ae8fa78e",
   "metadata": {},
   "outputs": [],
   "source": [
    "imageObj.crop((0, 50, 50, 50))"
   ]
  },
  {
   "cell_type": "code",
   "execution_count": null,
   "id": "5a5d71bc",
   "metadata": {},
   "outputs": [],
   "source": [
    "6. After making changes to an Image object, how could you save it as an image file?"
   ]
  },
  {
   "cell_type": "code",
   "execution_count": null,
   "id": "a0345312",
   "metadata": {},
   "outputs": [],
   "source": [
    "imageObj.save('new_name.jpg')"
   ]
  },
  {
   "cell_type": "code",
   "execution_count": null,
   "id": "c9f90825",
   "metadata": {},
   "outputs": [],
   "source": [
    "7. What module contains Pillow’s shape-drawing code?"
   ]
  },
  {
   "cell_type": "code",
   "execution_count": null,
   "id": "7e0ca443",
   "metadata": {},
   "outputs": [],
   "source": [
    "ImageDraw module"
   ]
  },
  {
   "cell_type": "code",
   "execution_count": null,
   "id": "8401cb49",
   "metadata": {},
   "outputs": [],
   "source": [
    "8. Image objects do not have drawing methods. What kind of object does? How do you get this kind of object?"
   ]
  },
  {
   "cell_type": "code",
   "execution_count": null,
   "id": "a5e2fa47",
   "metadata": {},
   "outputs": [],
   "source": [
    "They have shape drawing methods like line(), point(), rectangle()\n",
    "we can call they by using ImageDraw.Draw() function."
   ]
  }
 ],
 "metadata": {
  "kernelspec": {
   "display_name": "Python 3",
   "language": "python",
   "name": "python3"
  },
  "language_info": {
   "codemirror_mode": {
    "name": "ipython",
    "version": 3
   },
   "file_extension": ".py",
   "mimetype": "text/x-python",
   "name": "python",
   "nbconvert_exporter": "python",
   "pygments_lexer": "ipython3",
   "version": "3.8.8"
  }
 },
 "nbformat": 4,
 "nbformat_minor": 5
}
