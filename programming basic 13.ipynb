{
 "cells": [
  {
   "cell_type": "markdown",
   "id": "be90f8da",
   "metadata": {},
   "source": [
    "1. Write a program that calculates and prints the value according to the given formula:\n",
    "\n",
    "Q = Square root of [(2 * C * D)/H]\n",
    "\n",
    "Following are the fixed values of C and H:\n",
    "\n",
    "C is 50. H is 30.\n",
    "\n",
    "D is the variable whose values should be input to your program in a comma-separated sequence.\n",
    "\n",
    "Example\n",
    "\n",
    "Let us assume the following comma separated input sequence is given to the program:\n",
    "\n",
    "100,150,180\n",
    "\n",
    "The output of the program should be:\n",
    "\n",
    "18,22,24\n"
   ]
  },
  {
   "cell_type": "code",
   "execution_count": 1,
   "id": "feb3f984",
   "metadata": {},
   "outputs": [
    {
     "name": "stdout",
     "output_type": "stream",
     "text": [
      "enter a number  100,150,180\n",
      "[18, 22, 24]\n"
     ]
    }
   ],
   "source": [
    "import math\n",
    "c=50\n",
    "h=30\n",
    "l=[]\n",
    "numbers=input(\"enter a number  \")\n",
    "numbers=numbers.split(\",\")\n",
    "\n",
    "for d in numbers:\n",
    "    q=round(math.sqrt((2*c*int(d))/h))\n",
    "    l.append(q)\n",
    "print(l)\n",
    "\n",
    "   "
   ]
  },
  {
   "cell_type": "markdown",
   "id": "5bf61197",
   "metadata": {},
   "source": [
    "2.Write a program which takes 2 digits, X,Y as input and generates a 2-dimensional array. The element value in the i-th row and j-th column of the array should be i*j.\n",
    "\n",
    "Note: i=0,1.., X-1; j=0,1,¡¬Y-1.\n",
    "\n",
    "Example\n",
    "\n",
    "Suppose the following inputs are given to the program:\n",
    "\n",
    "3,5\n",
    "\n",
    "Then, the output of the program should be:\n",
    "\n",
    "[[0, 0, 0, 0, 0], [0, 1, 2, 3, 4], [0, 2, 4, 6, 8]] \n"
   ]
  },
  {
   "cell_type": "code",
   "execution_count": 6,
   "id": "272cc5f6",
   "metadata": {},
   "outputs": [
    {
     "name": "stdout",
     "output_type": "stream",
     "text": [
      "3\n",
      "5\n",
      "[[0, 0, 0, 0, 0], [0, 1, 2, 3, 4], [0, 2, 4, 6, 8]]\n"
     ]
    }
   ],
   "source": [
    "l=[]\n",
    "x=int(input())\n",
    "y=int(input())\n",
    "for i in range(x):\n",
    "    l1=[]\n",
    "    for j in range(y):\n",
    "        l1.append(i*j)\n",
    "    l.append(l1)\n",
    "print (l)"
   ]
  },
  {
   "cell_type": "markdown",
   "id": "ffd69078",
   "metadata": {},
   "source": [
    "3.Write a program that accepts a comma separated sequence of words as input and prints the words in a comma-separated sequence after sorting them alphabetically.\n",
    "\n",
    "Suppose the following input is supplied to the program:\n",
    "\n",
    "without,hello,bag,world\n",
    "\n",
    "Then, the output should be:\n",
    "\n",
    "bag,hello,without,world\n"
   ]
  },
  {
   "cell_type": "code",
   "execution_count": 3,
   "id": "c4ca69ce",
   "metadata": {},
   "outputs": [
    {
     "name": "stdout",
     "output_type": "stream",
     "text": [
      "['bag', 'hello', 'without', 'world']\n"
     ]
    }
   ],
   "source": [
    "x=[\"without\",\"hello\",\"bag\",\"world\"]\n",
    "x.sort()\n",
    "print(x)"
   ]
  },
  {
   "cell_type": "markdown",
   "id": "406cf0b9",
   "metadata": {},
   "source": [
    "4. Write a program that accepts a sequence of whitespace separated words as input and prints the words after removing all duplicate words and sorting them alphanumerically.\n",
    "\n",
    "Suppose the following input is supplied to the program:\n",
    "\n",
    "hello world and practice makes perfect and hello world again\n",
    "\n",
    "Then, the output should be:\n",
    "\n",
    "again and hello makes perfect practice world\n"
   ]
  },
  {
   "cell_type": "code",
   "execution_count": 5,
   "id": "54f5357e",
   "metadata": {},
   "outputs": [
    {
     "name": "stdout",
     "output_type": "stream",
     "text": [
      "{'perfect', 'and', 'practice', 'makes', 'hello', 'again', 'world'}\n"
     ]
    }
   ],
   "source": [
    "str=\"hello world and practice makes perfect and hello world again\"\n",
    "x=set(str.split())\n",
    "print(x)"
   ]
  },
  {
   "cell_type": "markdown",
   "id": "5f730133",
   "metadata": {},
   "source": [
    "5. Write a program that accepts a sentence and calculate the number of letters and digits.\n",
    "\n",
    "Suppose the following input is supplied to the program:\n",
    "\n",
    "hello world! 123\n",
    "\n",
    "Then, the output should be:\n",
    "\n",
    "LETTERS 10\n",
    "\n",
    "DIGITS 3\n"
   ]
  },
  {
   "cell_type": "code",
   "execution_count": 7,
   "id": "4ffe2dc5",
   "metadata": {},
   "outputs": [
    {
     "name": "stdout",
     "output_type": "stream",
     "text": [
      "letters 10\n",
      "digits  3\n"
     ]
    }
   ],
   "source": [
    "letters=[\"a\",'b',\"c\",\"d\",\"e\",\"f\",\"g\",\"h\",\"i\",'j','k',\"l\",\"m\",\"n\",\"o\",'p',\"q\",\"r\",'s',\"t\",\"u\",\"v\",'w','x',\"y\",\"z\"]\n",
    "digits=[\"0\",\"1\",\"2\",\"3\",\"4\",\"5\",\"6\",\"7\",\"8\",\"9\"]\n",
    "string=\"hello world! 123\"\n",
    "x=0\n",
    "y=0\n",
    "for i in string :\n",
    "    if i in letters:\n",
    "        x=x+1\n",
    "    if i in digits:\n",
    "        y=y+1\n",
    "print(\"letters\", x)\n",
    "print(\"digits \",y)\n",
    "        "
   ]
  },
  {
   "cell_type": "markdown",
   "id": "b912aa12",
   "metadata": {},
   "source": [
    "6.A website requires the users to input username and password to register. Write a program to check the validity of password input by users.\n",
    "\n",
    "Following are the criteria for checking the password:\n",
    "\n",
    "1. At least 1 letter between [a-z]\n",
    "\n",
    "2. At least 1 number between [0-9]\n",
    "\n",
    "1. At least 1 letter between [A-Z]\n",
    "\n",
    "3. At least 1 character from [$#@]\n",
    "\n",
    "4. Minimum length of transaction password: 6\n",
    "\n",
    "5. Maximum length of transaction password: 12\n",
    "\n",
    "Your program should accept a sequence of comma separated passwords and will check them according to the above criteria. Passwords that match the criteria are to be printed, each separated by a comma.\n",
    "\n",
    "Example\n",
    "\n",
    "If the following passwords are given as input to the program:\n",
    "\n",
    "ABd1234@1,a F1#,2w3E*,2We3345\n",
    "\n",
    "Then, the output of the program should be:\n",
    "\n",
    "ABd1234@1\n"
   ]
  },
  {
   "cell_type": "code",
   "execution_count": 4,
   "id": "7670f1ab",
   "metadata": {},
   "outputs": [
    {
     "name": "stdout",
     "output_type": "stream",
     "text": [
      "enter password  qweQW@#45,nbbggZX##ff55,aa,GHcv#$6778\n",
      "qweQW@#45\n",
      "GHcv#$6778\n"
     ]
    }
   ],
   "source": [
    "password=input(\"enter password  \")\n",
    "password= password .split(\",\")\n",
    "l=[\"a\",'b',\"c\",\"d\",\"e\",\"f\",\"g\",\"h\",\"i\",'j','k',\"l\",\"m\",\"n\",\"o\",'p',\"q\",\"r\",'s',\"t\",\"u\",\"v\",'w','x',\"y\",\"z\"]\n",
    "m=[\"0\",\"1\",\"2\",\"3\",\"4\",\"5\",\"6\",\"7\",\"8\",\"9\"]\n",
    "n=[\"A\",\"B\",\"C\",\"D\",\"E\",\"F\",\"G\",\"H\",\"I\",\"J\",\"K\",\"L\",\"M\",\"N\",\"O\",\"P\",\"Q\",\"R\",\"S\",\"T\",\"U\",\"V\",\"W\",\"X\",\"Y\",\"Z\"]\n",
    "s=[\"#\",\"$\",\"@\"]\n",
    "count=0\n",
    "z=0\n",
    "w=0\n",
    "y=0\n",
    "q=0\n",
    "x=0\n",
    "for i in password :\n",
    "    count=0\n",
    "    z=0\n",
    "    w=0\n",
    "    y=0\n",
    "    q=0\n",
    "    x=0\n",
    "    if  len(i)>6 and len(i)<12 :\n",
    "         x=1\n",
    "    for  j in i:\n",
    "        if j in l:\n",
    "            count=1\n",
    "        if j in m:\n",
    "             y=1\n",
    "        if j in n :\n",
    "             z=1\n",
    "        if j in s:\n",
    "              w=1     \n",
    "        q=count+y+z+w+x\n",
    "    if q==5:\n",
    "        print(i)\n"
   ]
  },
  {
   "cell_type": "code",
   "execution_count": null,
   "id": "3df915cc",
   "metadata": {},
   "outputs": [],
   "source": [
    "\n",
    "\n"
   ]
  },
  {
   "cell_type": "code",
   "execution_count": null,
   "id": "9ef06c45",
   "metadata": {},
   "outputs": [],
   "source": []
  }
 ],
 "metadata": {
  "kernelspec": {
   "display_name": "Python 3",
   "language": "python",
   "name": "python3"
  },
  "language_info": {
   "codemirror_mode": {
    "name": "ipython",
    "version": 3
   },
   "file_extension": ".py",
   "mimetype": "text/x-python",
   "name": "python",
   "nbconvert_exporter": "python",
   "pygments_lexer": "ipython3",
   "version": "3.8.8"
  }
 },
 "nbformat": 4,
 "nbformat_minor": 5
}
