{
 "cells": [
  {
   "cell_type": "markdown",
   "id": "bf67037e",
   "metadata": {},
   "source": [
    "1. In the below elements which of them are values or an expression? eg:- values can be integer or string and expression will be mathematical operators ."
   ]
  },
  {
   "cell_type": "code",
   "execution_count": null,
   "id": "d4fefd35",
   "metadata": {},
   "outputs": [],
   "source": [
    "* ->operator(multiplication)"
   ]
  },
  {
   "cell_type": "code",
   "execution_count": null,
   "id": "57392173",
   "metadata": {},
   "outputs": [],
   "source": [
    "'hello' ->value(type -string )"
   ]
  },
  {
   "cell_type": "code",
   "execution_count": null,
   "id": "a3a7fee1",
   "metadata": {},
   "outputs": [],
   "source": [
    "-87.8 ->value(type -float)"
   ]
  },
  {
   "cell_type": "code",
   "execution_count": null,
   "id": "6ab7ed3f",
   "metadata": {},
   "outputs": [],
   "source": [
    "- ->operator(subtract)"
   ]
  },
  {
   "cell_type": "code",
   "execution_count": null,
   "id": "cffb4b41",
   "metadata": {},
   "outputs": [],
   "source": [
    "/ ->operator(division)"
   ]
  },
  {
   "cell_type": "code",
   "execution_count": null,
   "id": "a6f62b19",
   "metadata": {},
   "outputs": [],
   "source": [
    "+ ->operator(addition)"
   ]
  },
  {
   "cell_type": "code",
   "execution_count": null,
   "id": "384edabd",
   "metadata": {},
   "outputs": [],
   "source": [
    "6  ->value(type- integer)"
   ]
  },
  {
   "cell_type": "markdown",
   "id": "bc435dc9",
   "metadata": {},
   "source": [
    "2. What is the difference between string and variable?"
   ]
  },
  {
   "cell_type": "markdown",
   "id": "c7d2e06d",
   "metadata": {},
   "source": [
    " We can say that variable is a container which can store different data types like string, integer, float, etc.\n",
    "\n",
    " whereas string is a data type which can be stored in a variable."
   ]
  },
  {
   "cell_type": "markdown",
   "id": "d0000a62",
   "metadata": {},
   "source": [
    "3. Describe three different data types. "
   ]
  },
  {
   "cell_type": "markdown",
   "id": "806db715",
   "metadata": {},
   "source": [
    "There are various data types some of them are:\n",
    "\n",
    "1. string\n",
    "2. int\n",
    "3. float\n",
    "4. list\n",
    "5. tuple\n",
    "6. set\n",
    "7. dictionary (dict)\n",
    "8. complex\n",
    "\n",
    "String (str): this is a data type used for text, placed in between \" \" or ' '.\n",
    "\n",
    "         for example: x = 'Hello World' where hello world is of type str.\n",
    "Integer(int): this is a numerical data type which is used for numbers without decimal points.\n",
    "\n",
    "         for example: y = 10\n",
    "Float : this is also a numerical data type but with decimal point.\n",
    "\n",
    "         for example: z = 10.11"
   ]
  },
  {
   "cell_type": "code",
   "execution_count": 1,
   "id": "79162a6a",
   "metadata": {},
   "outputs": [
    {
     "name": "stdout",
     "output_type": "stream",
     "text": [
      "x data type is: <class 'str'>\n",
      "y data type is: <class 'int'>\n",
      "z data type is: <class 'float'>\n"
     ]
    }
   ],
   "source": [
    "x = 'Hello World'\n",
    "print('x data type is:', type(x))\n",
    "y = 10\n",
    "print('y data type is:', type(y))\n",
    "z = 10.11\n",
    "print('z data type is:', type(z))"
   ]
  },
  {
   "cell_type": "markdown",
   "id": "39bf82e7",
   "metadata": {},
   "source": [
    "4. What is an expression made up of ? what do all expression do? "
   ]
  },
  {
   "cell_type": "markdown",
   "id": "29cea443",
   "metadata": {},
   "source": [
    "Expression is a combination of operators, variables, values and functions. for example: print('hello world') here print is a keywors whereas 'hello world' is expression. or 10+10"
   ]
  },
  {
   "cell_type": "markdown",
   "id": "a1b95835",
   "metadata": {},
   "source": [
    "5. This assignments statements, like spam =10. What is the difference between an expression and a statement?"
   ]
  },
  {
   "cell_type": "markdown",
   "id": "e230c7ab",
   "metadata": {},
   "source": [
    "Decleration of variable means binding it to a data type \n",
    "like in our case spam is used for binding 10 to it as an integer value.\n",
    "Whereas as an expression is the combination of operators and operands for example: 10+20\n"
   ]
  },
  {
   "cell_type": "markdown",
   "id": "9b2cbbb9",
   "metadata": {},
   "source": [
    "6. After running the following code, what does the variable bacon contain?\n",
    "   bacon = 22\n",
    "   bacon +1"
   ]
  },
  {
   "cell_type": "code",
   "execution_count": 2,
   "id": "b6de3e63",
   "metadata": {},
   "outputs": [
    {
     "name": "stdout",
     "output_type": "stream",
     "text": [
      "Bacon contains: 22\n"
     ]
    }
   ],
   "source": [
    "bacon = 22\n",
    "bacon +1 # this does not adds to our variable bacon\n",
    "print('Bacon contains:', bacon)"
   ]
  },
  {
   "cell_type": "markdown",
   "id": "2c668890",
   "metadata": {},
   "source": [
    "7. What should the values of the following two terms be?\n",
    "   'spam'+'spamspam'\n",
    "   \n",
    "   'spam'*3"
   ]
  },
  {
   "cell_type": "code",
   "execution_count": 3,
   "id": "329d0b9b",
   "metadata": {},
   "outputs": [
    {
     "data": {
      "text/plain": [
       "'spamspamspam'"
      ]
     },
     "execution_count": 3,
     "metadata": {},
     "output_type": "execute_result"
    }
   ],
   "source": [
    "a = 'spam' + 'spamspam'\n",
    "a"
   ]
  },
  {
   "cell_type": "code",
   "execution_count": 4,
   "id": "9f9bea8b",
   "metadata": {},
   "outputs": [
    {
     "data": {
      "text/plain": [
       "'spamspamspam'"
      ]
     },
     "execution_count": 4,
     "metadata": {},
     "output_type": "execute_result"
    }
   ],
   "source": [
    "b = 'spam'*3\n",
    "b"
   ]
  },
  {
   "cell_type": "code",
   "execution_count": null,
   "id": "a4f1db46",
   "metadata": {},
   "outputs": [],
   "source": [
    "in a it concatinate both strings and in b it multiplies."
   ]
  },
  {
   "cell_type": "markdown",
   "id": "20b68d45",
   "metadata": {},
   "source": [
    "8.  Why is eggs a valid variable name while 100 is invalid?"
   ]
  },
  {
   "cell_type": "markdown",
   "id": "afef4641",
   "metadata": {},
   "source": [
    "100 is a literal number, not a variable. 100 is always 100 , you cannot set it to something else. \n",
    "A variable is like a box in which you can store a value. 100 is a value that can be stored in the variable."
   ]
  },
  {
   "cell_type": "code",
   "execution_count": null,
   "id": "4e7cd798",
   "metadata": {},
   "outputs": [],
   "source": [
    "9. What three functions can be used to get the integer , floating point number,or string version of a variable?"
   ]
  },
  {
   "cell_type": "code",
   "execution_count": 5,
   "id": "e48cedab",
   "metadata": {},
   "outputs": [
    {
     "name": "stdout",
     "output_type": "stream",
     "text": [
      "Data type of a is <class 'int'>, and data type of b is <class 'float'>\n",
      "Data type of c is <class 'str'>, and data type of d is <class 'str'>\n",
      "data type of num is:  <class 'float'>\n",
      "now its type is:  <class 'int'>\n"
     ]
    }
   ],
   "source": [
    "#To convert an integer or floating point number to a string we simply can place it between \" \" or ' '\n",
    "a = 10\n",
    "b = 10.12\n",
    "print(\"Data type of a is {}, and data type of b is {}\".format(type(a),type(b)))\n",
    "c = \"10\"\n",
    "d = \"10.12\"\n",
    "print(\"Data type of c is {}, and data type of d is {}\".format(type(c),type(d)))\n",
    "\n",
    "# For Float ----> Int\n",
    "\n",
    "num = 10.11\n",
    "print(\"data type of num is: \", type(num))\n",
    "\n",
    "num = int(num)\n",
    "print(\"now its type is: \", type(num))"
   ]
  },
  {
   "cell_type": "markdown",
   "id": "928b88e1",
   "metadata": {},
   "source": [
    "10. Why does this expression cause an error ? How can you fix it ? \n",
    "    'I have eaten ' + 99 + ' burritos.'"
   ]
  },
  {
   "cell_type": "code",
   "execution_count": 6,
   "id": "02b2ac30",
   "metadata": {},
   "outputs": [
    {
     "data": {
      "text/plain": [
       "'I have eaten 99 burritos.'"
      ]
     },
     "execution_count": 6,
     "metadata": {},
     "output_type": "execute_result"
    }
   ],
   "source": [
    "Correct_form = 'I have eaten ' + '99' + ' burritos.'\n",
    "Correct_form"
   ]
  },
  {
   "cell_type": "code",
   "execution_count": null,
   "id": "3aca08f4",
   "metadata": {},
   "outputs": [],
   "source": []
  }
 ],
 "metadata": {
  "kernelspec": {
   "display_name": "Python 3",
   "language": "python",
   "name": "python3"
  },
  "language_info": {
   "codemirror_mode": {
    "name": "ipython",
    "version": 3
   },
   "file_extension": ".py",
   "mimetype": "text/x-python",
   "name": "python",
   "nbconvert_exporter": "python",
   "pygments_lexer": "ipython3",
   "version": "3.8.8"
  }
 },
 "nbformat": 4,
 "nbformat_minor": 5
}
