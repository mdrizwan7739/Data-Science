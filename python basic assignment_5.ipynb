{
 "cells": [
  {
   "cell_type": "markdown",
   "id": "5ece981d",
   "metadata": {},
   "source": [
    "1.What does an empty dictionary's code look like?"
   ]
  },
  {
   "cell_type": "code",
   "execution_count": null,
   "id": "9b608de7",
   "metadata": {},
   "outputs": [],
   "source": [
    "d = {}"
   ]
  },
  {
   "cell_type": "markdown",
   "id": "f12a908a",
   "metadata": {},
   "source": [
    "2. What is the value of a dictionary value with the key 'foo' and the value 42?"
   ]
  },
  {
   "cell_type": "code",
   "execution_count": 1,
   "id": "a03125cf",
   "metadata": {},
   "outputs": [
    {
     "data": {
      "text/plain": [
       "{'foo': 42}"
      ]
     },
     "execution_count": 1,
     "metadata": {},
     "output_type": "execute_result"
    }
   ],
   "source": [
    "d = {'foo':42}\n",
    "d"
   ]
  },
  {
   "cell_type": "code",
   "execution_count": 2,
   "id": "0ef7d1d2",
   "metadata": {},
   "outputs": [
    {
     "data": {
      "text/plain": [
       "dict_values([42])"
      ]
     },
     "execution_count": 2,
     "metadata": {},
     "output_type": "execute_result"
    }
   ],
   "source": [
    "d.values()"
   ]
  },
  {
   "cell_type": "markdown",
   "id": "6f1cd397",
   "metadata": {},
   "source": [
    "3. What is the most significant distinction between a dictionary and a list?"
   ]
  },
  {
   "cell_type": "code",
   "execution_count": null,
   "id": "f09352f3",
   "metadata": {},
   "outputs": [],
   "source": [
    "dictionary has a key value pair as one entity whereas there are individual elements in list"
   ]
  },
  {
   "cell_type": "markdown",
   "id": "932fe16d",
   "metadata": {},
   "source": [
    "4. What happens if you try to access spam['foo'] if spam is {'bar': 100}?"
   ]
  },
  {
   "cell_type": "code",
   "execution_count": 4,
   "id": "a7d51eac",
   "metadata": {},
   "outputs": [],
   "source": [
    "spam = {'bar': 100}"
   ]
  },
  {
   "cell_type": "code",
   "execution_count": 5,
   "id": "05f23f28",
   "metadata": {},
   "outputs": [
    {
     "ename": "KeyError",
     "evalue": "'foo'",
     "output_type": "error",
     "traceback": [
      "\u001b[1;31m---------------------------------------------------------------------------\u001b[0m",
      "\u001b[1;31mKeyError\u001b[0m                                  Traceback (most recent call last)",
      "\u001b[1;32m<ipython-input-5-9b5a94d1de8d>\u001b[0m in \u001b[0;36m<module>\u001b[1;34m\u001b[0m\n\u001b[1;32m----> 1\u001b[1;33m \u001b[0mspam\u001b[0m\u001b[1;33m[\u001b[0m\u001b[1;34m'foo'\u001b[0m\u001b[1;33m]\u001b[0m\u001b[1;33m\u001b[0m\u001b[1;33m\u001b[0m\u001b[0m\n\u001b[0m",
      "\u001b[1;31mKeyError\u001b[0m: 'foo'"
     ]
    }
   ],
   "source": [
    "spam['foo'] # key error"
   ]
  },
  {
   "cell_type": "markdown",
   "id": "799bb158",
   "metadata": {},
   "source": [
    "5. If a dictionary is stored in spam, what is the difference between the expressions 'cat' in spam and 'cat' in spam.keys()?"
   ]
  },
  {
   "cell_type": "code",
   "execution_count": null,
   "id": "487a9900",
   "metadata": {},
   "outputs": [],
   "source": [
    "it checks weather 'cat' is present in dictionary as a key."
   ]
  },
  {
   "cell_type": "markdown",
   "id": "6be7d104",
   "metadata": {},
   "source": [
    "6. If a dictionary is stored in spam, what is the difference between the expressions 'cat' in spam and 'cat' in spam.values()?"
   ]
  },
  {
   "cell_type": "code",
   "execution_count": null,
   "id": "2fa528fc",
   "metadata": {},
   "outputs": [],
   "source": [
    "it checks weather 'cat' is present in dictionary as a value"
   ]
  },
  {
   "cell_type": "markdown",
   "id": "571ed972",
   "metadata": {},
   "source": [
    "7. What is a shortcut for the following code?\n",
    "if 'color' not in spam:\n",
    "spam['color'] = 'black'\n"
   ]
  },
  {
   "cell_type": "code",
   "execution_count": 6,
   "id": "995222ae",
   "metadata": {},
   "outputs": [
    {
     "data": {
      "text/plain": [
       "'black'"
      ]
     },
     "execution_count": 6,
     "metadata": {},
     "output_type": "execute_result"
    }
   ],
   "source": [
    "\n",
    "spam.setdefault('color', 'black')"
   ]
  },
  {
   "cell_type": "markdown",
   "id": "84d9bf2e",
   "metadata": {},
   "source": [
    "8. How do you \"pretty print\" dictionary values using which module and function?"
   ]
  },
  {
   "cell_type": "code",
   "execution_count": null,
   "id": "b6cd5b2b",
   "metadata": {},
   "outputs": [],
   "source": [
    "module = pprint\n",
    "\n",
    "function = pprint.pprint()"
   ]
  }
 ],
 "metadata": {
  "kernelspec": {
   "display_name": "Python 3",
   "language": "python",
   "name": "python3"
  },
  "language_info": {
   "codemirror_mode": {
    "name": "ipython",
    "version": 3
   },
   "file_extension": ".py",
   "mimetype": "text/x-python",
   "name": "python",
   "nbconvert_exporter": "python",
   "pygments_lexer": "ipython3",
   "version": "3.8.8"
  }
 },
 "nbformat": 4,
 "nbformat_minor": 5
}
