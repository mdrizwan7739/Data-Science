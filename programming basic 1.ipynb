{
 "cells": [
  {
   "cell_type": "markdown",
   "id": "c13d762b",
   "metadata": {},
   "source": [
    "1. Write a python program to print \"Hello Python\" ? "
   ]
  },
  {
   "cell_type": "code",
   "execution_count": 1,
   "id": "6a8bb70b",
   "metadata": {},
   "outputs": [
    {
     "name": "stdout",
     "output_type": "stream",
     "text": [
      "Hello Python\n"
     ]
    }
   ],
   "source": [
    "print (\"Hello Python\")"
   ]
  },
  {
   "cell_type": "markdown",
   "id": "520314d1",
   "metadata": {},
   "source": [
    "2. Write a python program to do arithmetical operations addition and division ?"
   ]
  },
  {
   "cell_type": "code",
   "execution_count": 3,
   "id": "d1f1839a",
   "metadata": {},
   "outputs": [
    {
     "name": "stdout",
     "output_type": "stream",
     "text": [
      "12\n",
      "0.7142857142857143\n"
     ]
    }
   ],
   "source": [
    "\n",
    "y=5\n",
    "z=7\n",
    "x=y+z\n",
    "a=y/z\n",
    "print(x)\n",
    "print(a)"
   ]
  },
  {
   "cell_type": "markdown",
   "id": "372f0632",
   "metadata": {},
   "source": [
    "3. Write a python program to find the area of a triangle ?"
   ]
  },
  {
   "cell_type": "code",
   "execution_count": 5,
   "id": "bec5f26d",
   "metadata": {},
   "outputs": [
    {
     "name": "stdout",
     "output_type": "stream",
     "text": [
      "Area of triangle= 25.0\n"
     ]
    }
   ],
   "source": [
    "base=10\n",
    "height=5\n",
    "area=1/2*(base*height)\n",
    "print(\"Area of triangle=\",area)"
   ]
  },
  {
   "cell_type": "markdown",
   "id": "72a9d001",
   "metadata": {},
   "source": [
    "4. Write a python program to swap two variables ?"
   ]
  },
  {
   "cell_type": "code",
   "execution_count": 12,
   "id": "e97c7f6b",
   "metadata": {},
   "outputs": [
    {
     "name": "stdout",
     "output_type": "stream",
     "text": [
      "The value after swap x=4 and y=3\n"
     ]
    }
   ],
   "source": [
    "x=3\n",
    "y=4\n",
    "z=x \n",
    "x=y \n",
    "y=z\n",
    "print(\"The value after swap x={} and y={}\".format(x,y))\n"
   ]
  },
  {
   "cell_type": "markdown",
   "id": "0174dc90",
   "metadata": {},
   "source": [
    "5. Write a python program to generate a random number?"
   ]
  },
  {
   "cell_type": "code",
   "execution_count": 16,
   "id": "d51854c7",
   "metadata": {},
   "outputs": [
    {
     "name": "stdout",
     "output_type": "stream",
     "text": [
      "Random number=0.5160909622498081\n"
     ]
    }
   ],
   "source": [
    "import random\n",
    "x=random.random()\n",
    "print(\"Random number={}\".format(x))"
   ]
  },
  {
   "cell_type": "code",
   "execution_count": null,
   "id": "17919ec1",
   "metadata": {},
   "outputs": [],
   "source": []
  }
 ],
 "metadata": {
  "kernelspec": {
   "display_name": "Python 3",
   "language": "python",
   "name": "python3"
  },
  "language_info": {
   "codemirror_mode": {
    "name": "ipython",
    "version": 3
   },
   "file_extension": ".py",
   "mimetype": "text/x-python",
   "name": "python",
   "nbconvert_exporter": "python",
   "pygments_lexer": "ipython3",
   "version": "3.8.8"
  }
 },
 "nbformat": 4,
 "nbformat_minor": 5
}
