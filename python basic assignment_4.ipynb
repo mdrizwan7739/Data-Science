{
 "cells": [
  {
   "cell_type": "markdown",
   "id": "beb11661",
   "metadata": {},
   "source": [
    "1. What exactly is []?"
   ]
  },
  {
   "cell_type": "code",
   "execution_count": null,
   "id": "ec0a72c0",
   "metadata": {},
   "outputs": [],
   "source": [
    "[ ] represents an empty container of list"
   ]
  },
  {
   "cell_type": "markdown",
   "id": "b3ff9282",
   "metadata": {},
   "source": [
    "2. In a list of values stored in a variable called spam, how would you assign the value 'hello' as the third value? (Assume [2, 4, 6, 8, 10] are in spam.)\n"
   ]
  },
  {
   "cell_type": "code",
   "execution_count": 1,
   "id": "940d2c82",
   "metadata": {},
   "outputs": [
    {
     "data": {
      "text/plain": [
       "[2, 3, 'hello', 6, 8, 10]"
      ]
     },
     "execution_count": 1,
     "metadata": {},
     "output_type": "execute_result"
    }
   ],
   "source": [
    "spam = [2,3,4,6,8,10]\n",
    "spam[2]='hello'\n",
    "spam"
   ]
  },
  {
   "cell_type": "code",
   "execution_count": null,
   "id": "9be7790e",
   "metadata": {},
   "outputs": [],
   "source": [
    "Let's pretend the spam includes the list ['a', 'b', 'c', 'd'] for the next three queries."
   ]
  },
  {
   "cell_type": "markdown",
   "id": "3621b524",
   "metadata": {},
   "source": [
    "3. What is the value of spam[int(int('3' * 2) / 11)]?"
   ]
  },
  {
   "cell_type": "code",
   "execution_count": 2,
   "id": "f5ffe872",
   "metadata": {},
   "outputs": [
    {
     "data": {
      "text/plain": [
       "'d'"
      ]
     },
     "execution_count": 2,
     "metadata": {},
     "output_type": "execute_result"
    }
   ],
   "source": [
    "spam = ['a', 'b', 'c', 'd']\n",
    "spam[int(int('3' * 2) / 11)]"
   ]
  },
  {
   "cell_type": "markdown",
   "id": "8bfa0643",
   "metadata": {},
   "source": [
    "4. What is the value of spam[-1]?"
   ]
  },
  {
   "cell_type": "code",
   "execution_count": 3,
   "id": "72dc0cf2",
   "metadata": {},
   "outputs": [
    {
     "data": {
      "text/plain": [
       "'d'"
      ]
     },
     "execution_count": 3,
     "metadata": {},
     "output_type": "execute_result"
    }
   ],
   "source": [
    "spam = ['a', 'b', 'c', 'd']\n",
    "\n",
    "spam[-1]"
   ]
  },
  {
   "cell_type": "markdown",
   "id": "43377927",
   "metadata": {},
   "source": [
    "5. What is the value of spam[:2]?"
   ]
  },
  {
   "cell_type": "code",
   "execution_count": 4,
   "id": "aa3b2233",
   "metadata": {},
   "outputs": [
    {
     "data": {
      "text/plain": [
       "['a', 'b']"
      ]
     },
     "execution_count": 4,
     "metadata": {},
     "output_type": "execute_result"
    }
   ],
   "source": [
    "spam = ['a', 'b', 'c', 'd']\n",
    "spam[:2]"
   ]
  },
  {
   "cell_type": "code",
   "execution_count": null,
   "id": "dc13be35",
   "metadata": {},
   "outputs": [],
   "source": [
    " Let's pretend bacon has the list [3.14, 'cat,' 11, 'cat,' True] for the next three questions."
   ]
  },
  {
   "cell_type": "markdown",
   "id": "c190b419",
   "metadata": {},
   "source": [
    "6. What is the value of bacon.index('cat')?"
   ]
  },
  {
   "cell_type": "code",
   "execution_count": 5,
   "id": "8bbd75f4",
   "metadata": {},
   "outputs": [
    {
     "data": {
      "text/plain": [
       "1"
      ]
     },
     "execution_count": 5,
     "metadata": {},
     "output_type": "execute_result"
    }
   ],
   "source": [
    "bacon = [3.14, 'cat', 11, 'cat', True]\n",
    "bacon.index('cat')"
   ]
  },
  {
   "cell_type": "markdown",
   "id": "1b60f65a",
   "metadata": {},
   "source": [
    "7. How does bacon.append(99) change the look of the list value in bacon?"
   ]
  },
  {
   "cell_type": "code",
   "execution_count": 9,
   "id": "9d88e8cf",
   "metadata": {},
   "outputs": [
    {
     "data": {
      "text/plain": [
       "[3.14, 'cat', 11, 'cat', True, 99]"
      ]
     },
     "execution_count": 9,
     "metadata": {},
     "output_type": "execute_result"
    }
   ],
   "source": [
    "bacon = [3.14, 'cat', 11, 'cat', True]\n",
    "bacon.append(99)\n",
    "bacon"
   ]
  },
  {
   "cell_type": "markdown",
   "id": "cbe031ce",
   "metadata": {},
   "source": [
    "8. How does bacon.remove('cat') change the look of the list in bacon?"
   ]
  },
  {
   "cell_type": "code",
   "execution_count": 10,
   "id": "ce34ea58",
   "metadata": {},
   "outputs": [
    {
     "data": {
      "text/plain": [
       "[3.14, 11, 'cat', True]"
      ]
     },
     "execution_count": 10,
     "metadata": {},
     "output_type": "execute_result"
    }
   ],
   "source": [
    "bacon = [3.14, 'cat', 11, 'cat', True]\n",
    "bacon.remove('cat')\n",
    "bacon\n"
   ]
  },
  {
   "cell_type": "markdown",
   "id": "25d6191f",
   "metadata": {},
   "source": [
    "9. What are the list concatenation and list replication operators?"
   ]
  },
  {
   "cell_type": "code",
   "execution_count": 13,
   "id": "f12ba447",
   "metadata": {},
   "outputs": [
    {
     "data": {
      "text/plain": [
       "[1, 2, 3, 4, 5, 6, 7, 8]"
      ]
     },
     "execution_count": 13,
     "metadata": {},
     "output_type": "execute_result"
    }
   ],
   "source": [
    "#Concatenation:\n",
    "l1 = [1,2,3,4]\n",
    "l2 = [5,6,7,8]\n",
    "l1+l2"
   ]
  },
  {
   "cell_type": "code",
   "execution_count": 14,
   "id": "059ca2fd",
   "metadata": {},
   "outputs": [
    {
     "data": {
      "text/plain": [
       "[1, 2, 3, 4]"
      ]
     },
     "execution_count": 14,
     "metadata": {},
     "output_type": "execute_result"
    }
   ],
   "source": [
    "#Replication:\n",
    "l1 = [1,2,3,4]\n",
    "l2 = l1*1\n",
    "l2"
   ]
  },
  {
   "cell_type": "markdown",
   "id": "86cdb859",
   "metadata": {},
   "source": [
    "10. What is difference between the list methods append() and insert()?"
   ]
  },
  {
   "cell_type": "code",
   "execution_count": 15,
   "id": "8dfb3914",
   "metadata": {},
   "outputs": [
    {
     "data": {
      "text/plain": [
       "[1, 2, 3, 4, 5]"
      ]
     },
     "execution_count": 15,
     "metadata": {},
     "output_type": "execute_result"
    }
   ],
   "source": [
    "l1 = [1,2,3,4]\n",
    "l1.append(5) #It adds element to the end of list.\n",
    "l1"
   ]
  },
  {
   "cell_type": "code",
   "execution_count": 16,
   "id": "200c62b5",
   "metadata": {},
   "outputs": [
    {
     "data": {
      "text/plain": [
       "[1, 2, 10, 3, 4, 5]"
      ]
     },
     "execution_count": 16,
     "metadata": {},
     "output_type": "execute_result"
    }
   ],
   "source": [
    "l1.insert(2,10) #it inserts element at particular index/position.\n",
    "l1"
   ]
  },
  {
   "cell_type": "markdown",
   "id": "6efcd384",
   "metadata": {},
   "source": [
    "11. What are the two methods for removing items from a list?"
   ]
  },
  {
   "cell_type": "code",
   "execution_count": 17,
   "id": "026f6f1b",
   "metadata": {},
   "outputs": [
    {
     "name": "stdout",
     "output_type": "stream",
     "text": [
      "[1, 2, 3, 4]\n"
     ]
    },
    {
     "data": {
      "text/plain": [
       "[1, 2, 4]"
      ]
     },
     "execution_count": 17,
     "metadata": {},
     "output_type": "execute_result"
    }
   ],
   "source": [
    "#Method 1:\n",
    "l1 = [1,2,3,4]\n",
    "print(l1)\n",
    "l1.remove(3)\n",
    "l1"
   ]
  },
  {
   "cell_type": "code",
   "execution_count": 18,
   "id": "b27c4281",
   "metadata": {},
   "outputs": [
    {
     "name": "stdout",
     "output_type": "stream",
     "text": [
      "[1, 2, 3, 4]\n"
     ]
    },
    {
     "data": {
      "text/plain": [
       "[2, 3, 4]"
      ]
     },
     "execution_count": 18,
     "metadata": {},
     "output_type": "execute_result"
    }
   ],
   "source": [
    "#method 2:\n",
    "l1 = [1,2,3,4]\n",
    "print(l1)\n",
    "l1.pop(0)\n",
    "l1"
   ]
  },
  {
   "cell_type": "markdown",
   "id": "64046b6d",
   "metadata": {},
   "source": [
    "12. Describe how list values and string values are identical."
   ]
  },
  {
   "cell_type": "code",
   "execution_count": null,
   "id": "b9f046b9",
   "metadata": {},
   "outputs": [],
   "source": [
    "both list and string are ordered collection of elements except in list it can contain different data types."
   ]
  },
  {
   "cell_type": "markdown",
   "id": "754f7c02",
   "metadata": {},
   "source": [
    "13. What's the difference between tuples and lists?"
   ]
  },
  {
   "cell_type": "code",
   "execution_count": null,
   "id": "4cc9cd3e",
   "metadata": {},
   "outputs": [],
   "source": [
    "list are mutable but tuples are immutable i.e we can add,delete,reassign elements in list which we cannot do in tuples."
   ]
  },
  {
   "cell_type": "markdown",
   "id": "e54c43f6",
   "metadata": {},
   "source": [
    "14. How do you type a tuple value that only contains the integer 42?"
   ]
  },
  {
   "cell_type": "code",
   "execution_count": 19,
   "id": "5fb1a4d5",
   "metadata": {},
   "outputs": [
    {
     "data": {
      "text/plain": [
       "(42,)"
      ]
     },
     "execution_count": 19,
     "metadata": {},
     "output_type": "execute_result"
    }
   ],
   "source": [
    "(42,)"
   ]
  },
  {
   "cell_type": "markdown",
   "id": "495fd59c",
   "metadata": {},
   "source": [
    "15. How do you get a list value's tuple form? How do you get a tuple value's list form?"
   ]
  },
  {
   "cell_type": "code",
   "execution_count": 20,
   "id": "8400b358",
   "metadata": {},
   "outputs": [
    {
     "data": {
      "text/plain": [
       "(1, 2, 3)"
      ]
     },
     "execution_count": 20,
     "metadata": {},
     "output_type": "execute_result"
    }
   ],
   "source": [
    "tuple([1,2,3])"
   ]
  },
  {
   "cell_type": "code",
   "execution_count": 21,
   "id": "873ac4b2",
   "metadata": {},
   "outputs": [
    {
     "data": {
      "text/plain": [
       "[1, 2, 3]"
      ]
     },
     "execution_count": 21,
     "metadata": {},
     "output_type": "execute_result"
    }
   ],
   "source": [
    "list((1,2,3))"
   ]
  },
  {
   "cell_type": "markdown",
   "id": "59e5aac7",
   "metadata": {},
   "source": [
    "16. Variables that \"contain\" list values are not necessarily lists themselves. Instead, what do they contain?"
   ]
  },
  {
   "cell_type": "code",
   "execution_count": 22,
   "id": "4b69fc10",
   "metadata": {},
   "outputs": [
    {
     "data": {
      "text/plain": [
       "list"
      ]
     },
     "execution_count": 22,
     "metadata": {},
     "output_type": "execute_result"
    }
   ],
   "source": [
    "a = [1,2,3]\n",
    "type(a)\n",
    "#its just a name reference because list itself is a object."
   ]
  },
  {
   "cell_type": "markdown",
   "id": "17d8e36f",
   "metadata": {},
   "source": [
    "17. How do you distinguish between copy.copy() and copy.deepcopy()?"
   ]
  },
  {
   "cell_type": "markdown",
   "id": "5cd90e13",
   "metadata": {},
   "source": [
    "deepcopy does not change original object if in future we change deepcopied object. where as original object changes with copy()"
   ]
  }
 ],
 "metadata": {
  "kernelspec": {
   "display_name": "Python 3",
   "language": "python",
   "name": "python3"
  },
  "language_info": {
   "codemirror_mode": {
    "name": "ipython",
    "version": 3
   },
   "file_extension": ".py",
   "mimetype": "text/x-python",
   "name": "python",
   "nbconvert_exporter": "python",
   "pygments_lexer": "ipython3",
   "version": "3.8.8"
  }
 },
 "nbformat": 4,
 "nbformat_minor": 5
}
