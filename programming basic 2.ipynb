{
 "cells": [
  {
   "cell_type": "markdown",
   "id": "89ca9a37",
   "metadata": {},
   "source": [
    "1. Write a python program to convert kilometres into miles ?"
   ]
  },
  {
   "cell_type": "code",
   "execution_count": 5,
   "id": "d5f7bcc5",
   "metadata": {},
   "outputs": [
    {
     "name": "stdout",
     "output_type": "stream",
     "text": [
      "enter kilometres   3\n",
      "Converted kilometres in miles  =1.8641130000000001\n"
     ]
    }
   ],
   "source": [
    "kilometres=int(input(\"enter kilometres   \"))\n",
    "miles= kilometres*.621371\n",
    "print(\"Converted kilometres in miles  ={}\".format(miles))"
   ]
  },
  {
   "cell_type": "markdown",
   "id": "76b14733",
   "metadata": {},
   "source": [
    "2. Write a python program to convert celsius into farenheit ?"
   ]
  },
  {
   "cell_type": "code",
   "execution_count": 7,
   "id": "12fdd563",
   "metadata": {},
   "outputs": [
    {
     "name": "stdout",
     "output_type": "stream",
     "text": [
      "enter celsius  5\n",
      "Converted celsius into farenheit  =41.0\n"
     ]
    }
   ],
   "source": [
    "celsius=float(input(\"enter celsius  \"))\n",
    "farenheit=(celsius*9/5)+32\n",
    "print(\"Converted celsius into farenheit  ={}\".format(farenheit))"
   ]
  },
  {
   "cell_type": "markdown",
   "id": "7671189b",
   "metadata": {},
   "source": [
    "3. Write a python program to display calendar ?"
   ]
  },
  {
   "cell_type": "code",
   "execution_count": 8,
   "id": "30f26f86",
   "metadata": {},
   "outputs": [
    {
     "name": "stdout",
     "output_type": "stream",
     "text": [
      "     June 2021\n",
      "Mo Tu We Th Fr Sa Su\n",
      "    1  2  3  4  5  6\n",
      " 7  8  9 10 11 12 13\n",
      "14 15 16 17 18 19 20\n",
      "21 22 23 24 25 26 27\n",
      "28 29 30\n",
      "\n"
     ]
    }
   ],
   "source": [
    "import calendar\n",
    "year=2021\n",
    "month=6\n",
    "print(calendar.month(year,month))"
   ]
  },
  {
   "cell_type": "markdown",
   "id": "9a4b1f0a",
   "metadata": {},
   "source": [
    "4. Write a python program to solve quadratic equation ?"
   ]
  },
  {
   "cell_type": "code",
   "execution_count": 25,
   "id": "e770d9ca",
   "metadata": {},
   "outputs": [
    {
     "name": "stdout",
     "output_type": "stream",
     "text": [
      "(-4+0j) (-4+0j)\n"
     ]
    }
   ],
   "source": [
    "import cmath\n",
    "a=2\n",
    "b=4\n",
    "c=2\n",
    "d=b**2-4*a*c\n",
    "s1=((-b)+cmath.sqrt(d))/2*a\n",
    "s2=((-b)-cmath.sqrt(d))/2*a\n",
    "print(s1,s2)"
   ]
  },
  {
   "cell_type": "markdown",
   "id": "dacc5bc6",
   "metadata": {},
   "source": [
    "5. Wreite a python program to swap two variable without temp variable ? "
   ]
  },
  {
   "cell_type": "code",
   "execution_count": 34,
   "id": "f88b5a47",
   "metadata": {},
   "outputs": [
    {
     "name": "stdout",
     "output_type": "stream",
     "text": [
      "the value after swap x=5 and y =10\n"
     ]
    }
   ],
   "source": [
    "x=10\n",
    "y=5\n",
    "x=x+y\n",
    "y=x-y\n",
    "x=x-y\n",
    "print(\"the value after swap x={} and y ={}\".format(x,y))"
   ]
  },
  {
   "cell_type": "code",
   "execution_count": null,
   "id": "922f5628",
   "metadata": {},
   "outputs": [],
   "source": []
  },
  {
   "cell_type": "code",
   "execution_count": null,
   "id": "b3a1a244",
   "metadata": {},
   "outputs": [],
   "source": []
  },
  {
   "cell_type": "code",
   "execution_count": null,
   "id": "7c74c409",
   "metadata": {},
   "outputs": [],
   "source": []
  },
  {
   "cell_type": "code",
   "execution_count": null,
   "id": "6bdf6513",
   "metadata": {},
   "outputs": [],
   "source": []
  }
 ],
 "metadata": {
  "kernelspec": {
   "display_name": "Python 3",
   "language": "python",
   "name": "python3"
  },
  "language_info": {
   "codemirror_mode": {
    "name": "ipython",
    "version": 3
   },
   "file_extension": ".py",
   "mimetype": "text/x-python",
   "name": "python",
   "nbconvert_exporter": "python",
   "pygments_lexer": "ipython3",
   "version": "3.8.8"
  }
 },
 "nbformat": 4,
 "nbformat_minor": 5
}
