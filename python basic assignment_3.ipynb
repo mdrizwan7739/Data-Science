{
 "cells": [
  {
   "cell_type": "markdown",
   "id": "f3ddb6b3",
   "metadata": {},
   "source": [
    "1. Why are functions advantageous to have in your programs?"
   ]
  },
  {
   "cell_type": "code",
   "execution_count": null,
   "id": "e3e96ca8",
   "metadata": {},
   "outputs": [],
   "source": [
    " Functions are advantageous in programs because of their reusuability which makes program shorter, easy to read and update"
   ]
  },
  {
   "cell_type": "markdown",
   "id": "2baea1ca",
   "metadata": {},
   "source": [
    "2. When does the code in a function run: when it's specified or when it's called?"
   ]
  },
  {
   "cell_type": "code",
   "execution_count": null,
   "id": "21dbda9a",
   "metadata": {},
   "outputs": [],
   "source": [
    "When a function is called it starts executing the function"
   ]
  },
  {
   "cell_type": "markdown",
   "id": "3f8ed4a1",
   "metadata": {},
   "source": [
    "3. What statement creates a function?"
   ]
  },
  {
   "cell_type": "code",
   "execution_count": null,
   "id": "fe3741c2",
   "metadata": {},
   "outputs": [],
   "source": [
    "def function_name(arguments):\n",
    "    return arguments"
   ]
  },
  {
   "cell_type": "markdown",
   "id": "a25ea537",
   "metadata": {},
   "source": [
    "4. What is the difference between a function and a function call?"
   ]
  },
  {
   "cell_type": "markdown",
   "id": "8bb5b43b",
   "metadata": {},
   "source": [
    "function means a pre-coded task which will only perform if it is called this is where function call comes into picture to achieve the task."
   ]
  },
  {
   "cell_type": "markdown",
   "id": "7721590d",
   "metadata": {},
   "source": [
    "5. How many global scopes are there in a Python program? How many local scopes?"
   ]
  },
  {
   "cell_type": "markdown",
   "id": "01a46a32",
   "metadata": {},
   "source": [
    "\n",
    "there is only one global scope per python program and remains there untill program is terminated.\n",
    "\n",
    "there can be as many local scopes as you in side a program because variable created inside a function can only be used in that space."
   ]
  },
  {
   "cell_type": "markdown",
   "id": "3f450943",
   "metadata": {},
   "source": [
    "6. What happens to variables in a local scope when the function call returns?"
   ]
  },
  {
   "cell_type": "markdown",
   "id": "42362c48",
   "metadata": {},
   "source": [
    "variable in a local space is confined to that space of function can only be used in that function and therefore retains its value until next time function is called"
   ]
  },
  {
   "cell_type": "markdown",
   "id": "88b271e7",
   "metadata": {},
   "source": [
    "7. What is the concept of a return value? Is it possible to have a return value in an expression?"
   ]
  },
  {
   "cell_type": "markdown",
   "id": "680262b9",
   "metadata": {},
   "source": [
    "It is a special statement in a function used to sent result to caller who called function.\n",
    "\n",
    "yes it is possible to have return value in an expression."
   ]
  },
  {
   "cell_type": "markdown",
   "id": "47449efd",
   "metadata": {},
   "source": [
    "8. If a function does not have a return statement, what is the return value of a call to that function?"
   ]
  },
  {
   "cell_type": "markdown",
   "id": "ef240877",
   "metadata": {},
   "source": [
    "it doesnt return any particular value for example if you want to addition of number it will perform addition but not return the \n",
    "\n",
    "results without return statement."
   ]
  },
  {
   "cell_type": "markdown",
   "id": "f8243603",
   "metadata": {},
   "source": [
    "9. How do you make a function variable refer to the global variable?"
   ]
  },
  {
   "cell_type": "markdown",
   "id": "134b10dd",
   "metadata": {},
   "source": [
    "Global variable is a variable which is not connected to any particular function i.e it is free to be called in any function and also be reused. Therefore to refer a function variable to global variable we use global keyword to declare which variable are global"
   ]
  },
  {
   "cell_type": "markdown",
   "id": "13432da1",
   "metadata": {},
   "source": [
    "10. What is the data type of None?"
   ]
  },
  {
   "cell_type": "code",
   "execution_count": 1,
   "id": "e5180eaf",
   "metadata": {},
   "outputs": [
    {
     "data": {
      "text/plain": [
       "NoneType"
      ]
     },
     "execution_count": 1,
     "metadata": {},
     "output_type": "execute_result"
    }
   ],
   "source": [
    "type(None) # it is null neither Zero nor any other value"
   ]
  },
  {
   "cell_type": "markdown",
   "id": "8b7d1635",
   "metadata": {},
   "source": [
    "11. What does the sentence import areallyourpetsnamederic do?"
   ]
  },
  {
   "cell_type": "code",
   "execution_count": null,
   "id": "81c09d8c",
   "metadata": {},
   "outputs": [],
   "source": [
    "it will import areallyourpetnamederic module."
   ]
  },
  {
   "cell_type": "markdown",
   "id": "901434e6",
   "metadata": {},
   "source": [
    "12. If you had a bacon() feature in a spam module, what would you call it after importing spam?"
   ]
  },
  {
   "cell_type": "code",
   "execution_count": null,
   "id": "88743eed",
   "metadata": {},
   "outputs": [],
   "source": [
    "spam.bacon()"
   ]
  },
  {
   "cell_type": "markdown",
   "id": "f6cc5b76",
   "metadata": {},
   "source": [
    "13. What can you do to save a programme from crashing if it encounters an error?"
   ]
  },
  {
   "cell_type": "markdown",
   "id": "a31a37fe",
   "metadata": {},
   "source": [
    "I will use try and catch for preventing crash"
   ]
  },
  {
   "cell_type": "markdown",
   "id": "239c4888",
   "metadata": {},
   "source": [
    "14. What is the purpose of the try clause? What is the purpose of the except clause?"
   ]
  },
  {
   "cell_type": "markdown",
   "id": "b1ae27ce",
   "metadata": {},
   "source": [
    "TRY CLAUSE: try clause is used when you think that program can crash so you try to run the program and it crashes it wont disturb other part of program\n",
    "\n",
    "EXCEPT CLAUSE: except clause is used when you are trying a certain part of program but it fails so it used as a response to exception."
   ]
  }
 ],
 "metadata": {
  "kernelspec": {
   "display_name": "Python 3",
   "language": "python",
   "name": "python3"
  },
  "language_info": {
   "codemirror_mode": {
    "name": "ipython",
    "version": 3
   },
   "file_extension": ".py",
   "mimetype": "text/x-python",
   "name": "python",
   "nbconvert_exporter": "python",
   "pygments_lexer": "ipython3",
   "version": "3.8.8"
  }
 },
 "nbformat": 4,
 "nbformat_minor": 5
}
