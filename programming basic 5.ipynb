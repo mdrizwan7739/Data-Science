{
 "cells": [
  {
   "cell_type": "markdown",
   "id": "62e287e1",
   "metadata": {},
   "source": [
    "1. Write a python program to find LCM ?"
   ]
  },
  {
   "cell_type": "code",
   "execution_count": 18,
   "id": "5e7c7dfc",
   "metadata": {},
   "outputs": [
    {
     "name": "stdout",
     "output_type": "stream",
     "text": [
      "enter greater number  125\n",
      "enter smaller number  5\n",
      "the LCM of two number is   125\n"
     ]
    }
   ],
   "source": [
    "x=int(input(\"enter greater number  \"))\n",
    "y=int(input(\"enter smaller number  \"))\n",
    "x1=x\n",
    "y1=y\n",
    "if x>=y and x%y==0:\n",
    "    print(\"the LCM of two number is  \",x)\n",
    "if x>y and x%y!=0 :\n",
    "    for i in range(1,100) :\n",
    "        if x1>y1 :\n",
    "            y1=y*i\n",
    "        if y1>x1 :\n",
    "            x1=x*i\n",
    "        if x1==y1 :\n",
    "            print(\"The LCM of two number \",x1)                       \n",
    "            break\n",
    "      \n",
    "            \n",
    "            "
   ]
  },
  {
   "cell_type": "markdown",
   "id": "5ef80e45",
   "metadata": {},
   "source": [
    "2. Write a python program to find HCF ?"
   ]
  },
  {
   "cell_type": "code",
   "execution_count": 48,
   "id": "2fc310ff",
   "metadata": {},
   "outputs": [
    {
     "name": "stdout",
     "output_type": "stream",
     "text": [
      "Enter a number  45\n",
      "enter a number  60\n",
      "15\n"
     ]
    }
   ],
   "source": [
    "l1=[]\n",
    "l2=[]\n",
    "x1=[]\n",
    "x=int(input(\"Enter a number  \"))\n",
    "y=int(input(\"enter a number  \"))\n",
    "for i in range(1,x+1) :\n",
    "    if x%i==0:\n",
    "        l1.append(i)\n",
    "for i in range(1,y+1):\n",
    "    if y%i==0:\n",
    "        l2.append(i)\n",
    "for i in l1:\n",
    "    for j in l2 :\n",
    "        if  i==j:\n",
    "            x1.append(j)\n",
    "print(x1[-1])\n",
    "        \n",
    "    "
   ]
  },
  {
   "cell_type": "markdown",
   "id": "275772b9",
   "metadata": {},
   "source": [
    "3.Write a python program to convert decimal to binary,octal and hexadecimal ?"
   ]
  },
  {
   "cell_type": "code",
   "execution_count": 12,
   "id": "4c7d302d",
   "metadata": {},
   "outputs": [
    {
     "name": "stdout",
     "output_type": "stream",
     "text": [
      "Enter a decimal number to convert into binary11\n",
      "Converted decimal to binary number   =   [1, 0, 1, 1]\n",
      "Enter a decimal numberto convert into octal 112\n",
      "Converted decimal to octal 160\n",
      "Enter a decimal number to convert into hexadecimal 112\n",
      "converted decimal to hexadecimal 70\n"
     ]
    }
   ],
   "source": [
    "#Decimal to binary\n",
    "\n",
    "\n",
    "l=[]\n",
    "x=int(input(\"Enter a decimal number to convert into binary\"))\n",
    "y=1\n",
    "while (x>0) :    \n",
    "    y= x%2\n",
    "    l.append(y)\n",
    "    x=int(x/2)\n",
    "print(\"Converted decimal to binary number   =  \",l[::-1]) \n",
    "\n",
    "\n",
    "#Decimal to octal \n",
    "a=int(input(\"Enter a decimal numberto convert into octal \"))\n",
    "l1=[]\n",
    "l2=[]\n",
    "s=\"\"\n",
    "while(a>0):\n",
    "    y=a%8\n",
    "    l1.append(str(y))\n",
    "    a=int(a/8)\n",
    "l2=l1[::-1]     \n",
    "for i in l2 :\n",
    "    s=s+i\n",
    "z=int(s)\n",
    "print(\"Converted decimal to octal\",z)\n",
    "\n",
    "#Decimal to hexadecimal\n",
    "\n",
    "\n",
    "b=int(input(\"Enter a decimal number to convert into hexadecimal \"))\n",
    "l3=[]\n",
    "l4=[]\n",
    "while(b>0):\n",
    "    y=b%16\n",
    "    if y==10 :\n",
    "        l3.append(\"A\")\n",
    "    elif y==11:\n",
    "        l3.append(\"B\")\n",
    "    elif y==12:\n",
    "        l3.append(\"C\")\n",
    "    elif y==13:\n",
    "        l3.append(\"D\")\n",
    "    elif y==14:\n",
    "        l3.append(\"E\")\n",
    "    elif y==15:\n",
    "        l3.append(\"F\")\n",
    "    else:\n",
    "        l3.append(str(y))\n",
    "    b=int(b/16)\n",
    "l4=l3[::-1] \n",
    "t=\"\"\n",
    "for i in l4 :\n",
    "    t=t+i\n",
    "\n",
    "print(\"converted decimal to hexadecimal\",t)\n",
    "    \n",
    "    \n",
    "\n",
    "\n",
    "\n",
    "\n",
    "\n",
    "    "
   ]
  },
  {
   "cell_type": "markdown",
   "id": "60090c16",
   "metadata": {},
   "source": [
    "4. Write a python program to find ASCII value of a character ?"
   ]
  },
  {
   "cell_type": "code",
   "execution_count": 3,
   "id": "4a3d5e30",
   "metadata": {},
   "outputs": [
    {
     "name": "stdout",
     "output_type": "stream",
     "text": [
      " Enter a character to find the ASCII value  A\n",
      "The ASCII value of character =   65\n"
     ]
    }
   ],
   "source": [
    "x=input (\" Enter a character to find the ASCII value  \")\n",
    "z=ord(x)\n",
    "print(\"The ASCII value of character =  \",z)"
   ]
  },
  {
   "cell_type": "markdown",
   "id": "31c2945c",
   "metadata": {},
   "source": [
    "5. Write a python program to make a simple calculator with 4 basic mathematical operations ?"
   ]
  },
  {
   "cell_type": "code",
   "execution_count": 46,
   "id": "fbc96fff",
   "metadata": {},
   "outputs": [],
   "source": [
    "def calculator1(x,y,z):\n",
    "    if x==\"add\":\n",
    "        return y+z\n",
    "    if x==\"subtract\":\n",
    "        return y-z\n",
    "    if x==\"multiply\":\n",
    "        return y*z\n",
    "    if x==\"divide\":\n",
    "        return y/z\n",
    "        "
   ]
  },
  {
   "cell_type": "code",
   "execution_count": 49,
   "id": "53ebe85d",
   "metadata": {},
   "outputs": [
    {
     "data": {
      "text/plain": [
       "6"
      ]
     },
     "execution_count": 49,
     "metadata": {},
     "output_type": "execute_result"
    }
   ],
   "source": [
    "calculator1(\"subtract\",12,6)"
   ]
  },
  {
   "cell_type": "code",
   "execution_count": null,
   "id": "88acc531",
   "metadata": {},
   "outputs": [],
   "source": []
  },
  {
   "cell_type": "code",
   "execution_count": null,
   "id": "abbf1587",
   "metadata": {},
   "outputs": [],
   "source": []
  },
  {
   "cell_type": "code",
   "execution_count": null,
   "id": "8ebc0707",
   "metadata": {},
   "outputs": [],
   "source": []
  },
  {
   "cell_type": "code",
   "execution_count": null,
   "id": "35e907ee",
   "metadata": {},
   "outputs": [],
   "source": []
  }
 ],
 "metadata": {
  "kernelspec": {
   "display_name": "Python 3",
   "language": "python",
   "name": "python3"
  },
  "language_info": {
   "codemirror_mode": {
    "name": "ipython",
    "version": 3
   },
   "file_extension": ".py",
   "mimetype": "text/x-python",
   "name": "python",
   "nbconvert_exporter": "python",
   "pygments_lexer": "ipython3",
   "version": "3.8.8"
  }
 },
 "nbformat": 4,
 "nbformat_minor": 5
}
