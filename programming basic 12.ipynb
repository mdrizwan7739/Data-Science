{
 "cells": [
  {
   "cell_type": "markdown",
   "id": "e44e5844",
   "metadata": {},
   "source": [
    "1. Write a python program to extract unique values of dictionary values ?"
   ]
  },
  {
   "cell_type": "code",
   "execution_count": 26,
   "id": "38e0fa6b",
   "metadata": {},
   "outputs": [
    {
     "name": "stdout",
     "output_type": "stream",
     "text": [
      "[1, 2, 3, 4, 5]\n"
     ]
    }
   ],
   "source": [
    "dict={\"aaa\":1,\"zzz\":1,\"az\":2,\"qw\":3,\"we\":4,\"aq\":3,\"aw\":5}\n",
    "z=dict.values()\n",
    "k=[]\n",
    "for i in z:\n",
    "    if i in k:\n",
    "        continue\n",
    "    else:\n",
    "        k.append(i)\n",
    "print(k)\n",
    "    \n",
    "    "
   ]
  },
  {
   "cell_type": "markdown",
   "id": "9d555177",
   "metadata": {},
   "source": [
    "2. Write a python program to find the sum of all items in a dictionary ?"
   ]
  },
  {
   "cell_type": "code",
   "execution_count": 20,
   "id": "aebfeed8",
   "metadata": {},
   "outputs": [
    {
     "name": "stdout",
     "output_type": "stream",
     "text": [
      "101\n"
     ]
    }
   ],
   "source": [
    "d1={\"a\":11,\"b\":20,\"c\":30,\"d\":40}\n",
    "x=0\n",
    "for i in d1:\n",
    "    x=x+d1[i]\n",
    "print(x)\n",
    "    \n",
    "   \n"
   ]
  },
  {
   "cell_type": "markdown",
   "id": "4ac5e27e",
   "metadata": {},
   "source": [
    "3.Write a python program to Merging two dictionaries ?"
   ]
  },
  {
   "cell_type": "code",
   "execution_count": 3,
   "id": "a820ea3e",
   "metadata": {},
   "outputs": [
    {
     "name": "stdout",
     "output_type": "stream",
     "text": [
      "{'aa': 11, 'bb': 12, 'cc': 13, 'dd': 14, 'ee': 15, 'tt': 16, 'uu': 17, 'vv': 18, 'ww': 19, 'xx': 20}\n"
     ]
    }
   ],
   "source": [
    "a={\"aa\":11,\"bb\":12,\"cc\":13,\"dd\":14,\"ee\":15}\n",
    "a1={\"tt\":16,\"uu\":17,\"vv\":18,\"ww\":19,\"xx\":20}\n",
    "a.update(a1)\n",
    "print(a)"
   ]
  },
  {
   "cell_type": "markdown",
   "id": "ad7092fb",
   "metadata": {},
   "source": [
    "4. Write a python program to convert key-values list to flat dictionary ?"
   ]
  },
  {
   "cell_type": "code",
   "execution_count": 33,
   "id": "2734bd43",
   "metadata": {},
   "outputs": [
    {
     "name": "stdout",
     "output_type": "stream",
     "text": [
      "{'ss': 1, 'ee': 2, 'gg': 3, 'nn': 4, 'kk': 5, 'uu': 6}\n"
     ]
    }
   ],
   "source": [
    "d={\"a\":[1,2,3,4,5,6,7],\"b\":[\"ss\",\"ee\",\"gg\",\"nn\",\"kk\",\"uu\"]}\n",
    "d=dict(zip(d[\"b\"],d[\"a\"]))\n",
    "print(d)\n"
   ]
  },
  {
   "cell_type": "markdown",
   "id": "041fe038",
   "metadata": {},
   "source": [
    "5. Write a python program to insertion at the beginning in OrderDict ?"
   ]
  },
  {
   "cell_type": "code",
   "execution_count": 1,
   "id": "3e940f6e",
   "metadata": {},
   "outputs": [
    {
     "name": "stdout",
     "output_type": "stream",
     "text": [
      "OrderedDict([('smith', 1), ('virat', 2), ('rohit', 3)])\n",
      "OrderedDict([('smith', 1), ('virat', 2), ('rohit', 3), ('rahul', 4)])\n",
      "OrderedDict([('rahul', 4), ('smith', 1), ('virat', 2), ('rohit', 3)])\n"
     ]
    }
   ],
   "source": [
    "from collections import OrderedDict\n",
    "d1=OrderedDict([(\"smith\",1),(\"virat\",2),(\"rohit\",3)])\n",
    "print(d1)\n",
    "d1.update({\"rahul\":4})\n",
    "print(d1)\n",
    "d1.move_to_end(\"rahul\",last=False)\n",
    "print(d1)\n"
   ]
  },
  {
   "cell_type": "markdown",
   "id": "8b0c2f14",
   "metadata": {},
   "source": [
    "6. Write a python program to check order of character in string using OrderedDict() ?"
   ]
  },
  {
   "cell_type": "code",
   "execution_count": 3,
   "id": "5a2e683d",
   "metadata": {},
   "outputs": [
    {
     "name": "stdout",
     "output_type": "stream",
     "text": [
      "{'a': 1000, 'f': 200, 'd': 300, 'c': 400, 'b': 500, 'e': 600}\n",
      "OrderedDict([('a', 1000), ('b', 500), ('c', 400), ('d', 300), ('e', 600), ('f', 200)])\n"
     ]
    }
   ],
   "source": [
    "from collections import OrderedDict\n",
    "unordered = {'a': 1000, 'f': 200, 'd': 300, 'c': 400, 'b': 500, 'e': 600}\n",
    "print(unordered)\n",
    "od = OrderedDict(sorted(unordered.items()))\n",
    "print(od)"
   ]
  },
  {
   "cell_type": "markdown",
   "id": "7c84efc8",
   "metadata": {},
   "source": [
    "7. Write a python program to sort  python dictionaries by key or value  ?"
   ]
  },
  {
   "cell_type": "code",
   "execution_count": 1,
   "id": "7af8ec9b",
   "metadata": {},
   "outputs": [
    {
     "name": "stdout",
     "output_type": "stream",
     "text": [
      "Sorted by key:  [('a', 1000), ('b', 500), ('c', 400), ('d', 300), ('e', 600), ('f', 200)]\n"
     ]
    }
   ],
   "source": [
    "d = {'a': 1000, 'f': 200, 'd': 300, 'c': 400, 'b': 500, 'e': 600}\n",
    "sort = sorted(d.items())\n",
    "\n",
    "print(\"Sorted by key: \",sort)"
   ]
  },
  {
   "cell_type": "code",
   "execution_count": null,
   "id": "6565b575",
   "metadata": {},
   "outputs": [],
   "source": []
  }
 ],
 "metadata": {
  "kernelspec": {
   "display_name": "Python 3",
   "language": "python",
   "name": "python3"
  },
  "language_info": {
   "codemirror_mode": {
    "name": "ipython",
    "version": 3
   },
   "file_extension": ".py",
   "mimetype": "text/x-python",
   "name": "python",
   "nbconvert_exporter": "python",
   "pygments_lexer": "ipython3",
   "version": "3.8.8"
  }
 },
 "nbformat": 4,
 "nbformat_minor": 5
}
